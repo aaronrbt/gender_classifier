{
 "cells": [
  {
   "cell_type": "markdown",
   "metadata": {
    "id": "yCahbBEsMCSJ"
   },
   "source": [
    "# Machine Learning via PyCaret"
   ]
  },
  {
   "cell_type": "code",
   "execution_count": 1,
   "metadata": {
    "executionInfo": {
     "elapsed": 2757,
     "status": "ok",
     "timestamp": 1664523506469,
     "user": {
      "displayName": "Aojun Zhang",
      "userId": "05758223502864804477"
     },
     "user_tz": 420
    },
    "id": "TEHtFf75L2bP"
   },
   "outputs": [],
   "source": [
    "import pandas as pd                       \n",
    "import numpy as np\n",
    "from sklearn.model_selection import train_test_split\n",
    "from sklearn.metrics import precision_score, recall_score, f1_score\n",
    "\n",
    "import matplotlib.pyplot as plt\n",
    "from pycaret.classification import *\n",
    "\n",
    "# # To render interactive plots in Google Colab\n",
    "# from pycaret.utils import enable_colab\n",
    "# enable_colab()"
   ]
  },
  {
   "cell_type": "markdown",
   "metadata": {
    "id": "C4n2Osouf2vD"
   },
   "source": [
    "## Read the dataset"
   ]
  },
  {
   "cell_type": "code",
   "execution_count": 2,
   "metadata": {
    "colab": {
     "base_uri": "https://localhost:8080/",
     "height": 206
    },
    "executionInfo": {
     "elapsed": 403,
     "status": "ok",
     "timestamp": 1664523520243,
     "user": {
      "displayName": "Aojun Zhang",
      "userId": "05758223502864804477"
     },
     "user_tz": 420
    },
    "id": "j3e-YoOWO9hE",
    "outputId": "cbf25d52-b331-44d9-d0c8-fe8225e31f34"
   },
   "outputs": [
    {
     "data": {
      "text/html": [
       "<div>\n",
       "<style scoped>\n",
       "    .dataframe tbody tr th:only-of-type {\n",
       "        vertical-align: middle;\n",
       "    }\n",
       "\n",
       "    .dataframe tbody tr th {\n",
       "        vertical-align: top;\n",
       "    }\n",
       "\n",
       "    .dataframe thead th {\n",
       "        text-align: right;\n",
       "    }\n",
       "</style>\n",
       "<table border=\"1\" class=\"dataframe\">\n",
       "  <thead>\n",
       "    <tr style=\"text-align: right;\">\n",
       "      <th></th>\n",
       "      <th>name</th>\n",
       "      <th>gender</th>\n",
       "    </tr>\n",
       "  </thead>\n",
       "  <tbody>\n",
       "    <tr>\n",
       "      <th>0</th>\n",
       "      <td>Aaban&amp;&amp;</td>\n",
       "      <td>M</td>\n",
       "    </tr>\n",
       "    <tr>\n",
       "      <th>1</th>\n",
       "      <td>Aabha*</td>\n",
       "      <td>F</td>\n",
       "    </tr>\n",
       "    <tr>\n",
       "      <th>2</th>\n",
       "      <td>Aabid</td>\n",
       "      <td>M</td>\n",
       "    </tr>\n",
       "    <tr>\n",
       "      <th>3</th>\n",
       "      <td>Aabriella</td>\n",
       "      <td>F</td>\n",
       "    </tr>\n",
       "    <tr>\n",
       "      <th>4</th>\n",
       "      <td>Aada_</td>\n",
       "      <td>F</td>\n",
       "    </tr>\n",
       "  </tbody>\n",
       "</table>\n",
       "</div>"
      ],
      "text/plain": [
       "        name gender\n",
       "0    Aaban&&      M\n",
       "1     Aabha*      F\n",
       "2      Aabid      M\n",
       "3  Aabriella      F\n",
       "4      Aada_      F"
      ]
     },
     "execution_count": 2,
     "metadata": {},
     "output_type": "execute_result"
    }
   ],
   "source": [
    "df = pd.read_csv('../data/name_gender.csv') \n",
    "df.head()"
   ]
  },
  {
   "cell_type": "code",
   "execution_count": 7,
   "metadata": {
    "colab": {
     "base_uri": "https://localhost:8080/"
    },
    "executionInfo": {
     "elapsed": 448,
     "status": "ok",
     "timestamp": 1664523522094,
     "user": {
      "displayName": "Aojun Zhang",
      "userId": "05758223502864804477"
     },
     "user_tz": 420
    },
    "id": "E_N6fZ4JbXFm",
    "outputId": "f98a3847-57e7-46ee-a7bb-cddeaff037b7"
   },
   "outputs": [
    {
     "name": "stdout",
     "output_type": "stream",
     "text": [
      "<class 'pandas.core.frame.DataFrame'>\n",
      "RangeIndex: 95025 entries, 0 to 95024\n",
      "Data columns (total 2 columns):\n",
      " #   Column  Non-Null Count  Dtype \n",
      "---  ------  --------------  ----- \n",
      " 0   name    95025 non-null  object\n",
      " 1   gender  95025 non-null  object\n",
      "dtypes: object(2)\n",
      "memory usage: 1.5+ MB\n"
     ]
    }
   ],
   "source": [
    "df.info()"
   ]
  },
  {
   "cell_type": "code",
   "execution_count": 8,
   "metadata": {
    "colab": {
     "base_uri": "https://localhost:8080/"
    },
    "executionInfo": {
     "elapsed": 4,
     "status": "ok",
     "timestamp": 1664523530540,
     "user": {
      "displayName": "Aojun Zhang",
      "userId": "05758223502864804477"
     },
     "user_tz": 420
    },
    "id": "2xeL3rzoQ1HD",
    "outputId": "c2ee4cd3-082d-4c79-cde2-ced96e89396a"
   },
   "outputs": [
    {
     "data": {
      "text/plain": [
       "F    60304\n",
       "M    34721\n",
       "Name: gender, dtype: int64"
      ]
     },
     "execution_count": 8,
     "metadata": {},
     "output_type": "execute_result"
    }
   ],
   "source": [
    "df.gender.value_counts()"
   ]
  },
  {
   "cell_type": "markdown",
   "metadata": {},
   "source": [
    "<span style=\"color:black;font-family:Malgun Gothic;font-size:14px;font-weight:bold\">keep 2% as unseen data</span>"
   ]
  },
  {
   "cell_type": "code",
   "execution_count": 9,
   "metadata": {},
   "outputs": [
    {
     "data": {
      "text/plain": [
       "(95025, 2)"
      ]
     },
     "execution_count": 9,
     "metadata": {},
     "output_type": "execute_result"
    }
   ],
   "source": [
    "df.shape"
   ]
  },
  {
   "cell_type": "code",
   "execution_count": 10,
   "metadata": {},
   "outputs": [],
   "source": [
    "unseen_data = df.sample(frac=0.02, random_state=24)\n",
    "df = df.drop(unseen_data.index).reset_index(drop=True)\n",
    "#unseen_data.to_csv(\"../data/sample_test.csv\", index=False)"
   ]
  },
  {
   "cell_type": "markdown",
   "metadata": {
    "id": "WzVdVCUKRKCQ"
   },
   "source": [
    "## Preparing Data (and features)"
   ]
  },
  {
   "cell_type": "markdown",
   "metadata": {},
   "source": [
    "### text preprocessing"
   ]
  },
  {
   "cell_type": "code",
   "execution_count": 6,
   "metadata": {},
   "outputs": [],
   "source": [
    "# text preprocessing (mainly cleaning)\n",
    "def preprocessing(name_series):\n",
    "    # 1. keep alphabets only and 2. (standardize) lowercase names  \n",
    "    name_series = name_series.str.replace('[^a-zA-Z]', '').str.lower()\n",
    "    return name_series"
   ]
  },
  {
   "cell_type": "code",
   "execution_count": 12,
   "metadata": {},
   "outputs": [],
   "source": [
    "df_clean = df.copy()\n",
    "df_clean[\"name\"] = preprocessing(df_clean[\"name\"])\n",
    "df_clean.drop_duplicates(inplace=True)"
   ]
  },
  {
   "cell_type": "code",
   "execution_count": 13,
   "metadata": {
    "executionInfo": {
     "elapsed": 5,
     "status": "ok",
     "timestamp": 1664523530541,
     "user": {
      "displayName": "Aojun Zhang",
      "userId": "05758223502864804477"
     },
     "user_tz": 420
    },
    "id": "Oh_6bEAWbgqT"
   },
   "outputs": [],
   "source": [
    "# encode labels into categorical numbers: 0 is F and 1 is M\n",
    "y = df_clean['gender'].astype(\"category\").cat.codes.values\n",
    "names = df_clean['name']"
   ]
  },
  {
   "cell_type": "code",
   "execution_count": 14,
   "metadata": {
    "colab": {
     "base_uri": "https://localhost:8080/"
    },
    "executionInfo": {
     "elapsed": 4,
     "status": "ok",
     "timestamp": 1664523530541,
     "user": {
      "displayName": "Aojun Zhang",
      "userId": "05758223502864804477"
     },
     "user_tz": 420
    },
    "id": "CTDY5VYBl64k",
    "outputId": "0b1d0b98-4459-4ba5-c5ce-d249d3d52a30"
   },
   "outputs": [
    {
     "name": "stdout",
     "output_type": "stream",
     "text": [
      "M : 34020 F : 59105\n"
     ]
    }
   ],
   "source": [
    "print(\n",
    "    \"M : \" + str(sum(y==1)),\n",
    "    \"F : \" + str(sum(y==0))\n",
    ")"
   ]
  },
  {
   "cell_type": "markdown",
   "metadata": {
    "id": "unV-k__Lgb0E"
   },
   "source": [
    "### Encoding Words\n",
    "To main character orders, create a feature matrix containing. Also assume maximum length of a name is 25 (reference: [link](https://www.researchgate.net/figure/First-names-and-last-names-lengths-distributions_fig1_328894441))"
   ]
  },
  {
   "cell_type": "code",
   "execution_count": 7,
   "metadata": {
    "executionInfo": {
     "elapsed": 3,
     "status": "ok",
     "timestamp": 1664523530541,
     "user": {
      "displayName": "Aojun Zhang",
      "userId": "05758223502864804477"
     },
     "user_tz": 420
    },
    "id": "8zNIym5uBmHS"
   },
   "outputs": [],
   "source": [
    "#word encoding \n",
    "maxlen = 25\n",
    "# creating a vocab and dict map                              \n",
    "vocab = ['a','b','c','d','e','f','g','h','i','j','k','l','m','n','o','p','q','r','s','t','u','v','w','x','y','z']\n",
    "vocab.append(\"END\")\n",
    "len_vocab = len(vocab)\n",
    "char_index = {c:i for i, c in enumerate(vocab)}   # creating a dictionary\n",
    "\n",
    "# Builds an empty line with a 1 at the index of character\n",
    "def set_flag(i):\n",
    "    aux = np.zeros(len_vocab)\n",
    "    aux[i] = 1\n",
    "    return list(aux)\n",
    "\n",
    "# Truncate names and create the matrix\n",
    "def get_encod_names(X):\n",
    "    vec_names = []\n",
    "    trunc_names = [str(i)[0:maxlen] for i in X]  # consider only the first 20 characters\n",
    "    for name in trunc_names:\n",
    "        tmp = [set_flag(char_index[i]) for i in str(name)]\n",
    "        for k in range(0,maxlen - len(str(name))):\n",
    "            tmp.append(set_flag(char_index[\"END\"]))\n",
    "        vec_names.append(tmp)\n",
    "    return vec_names"
   ]
  },
  {
   "cell_type": "code",
   "execution_count": 16,
   "metadata": {
    "executionInfo": {
     "elapsed": 34483,
     "status": "ok",
     "timestamp": 1664523565021,
     "user": {
      "displayName": "Aojun Zhang",
      "userId": "05758223502864804477"
     },
     "user_tz": 420
    },
    "id": "7pNJbOIUeqFf"
   },
   "outputs": [],
   "source": [
    "x = get_encod_names(names.values)"
   ]
  },
  {
   "cell_type": "markdown",
   "metadata": {
    "id": "FXl0jak5hfeW"
   },
   "source": [
    "## Split the data into train and test"
   ]
  },
  {
   "cell_type": "code",
   "execution_count": 17,
   "metadata": {
    "executionInfo": {
     "elapsed": 14530,
     "status": "ok",
     "timestamp": 1664523582854,
     "user": {
      "displayName": "Aojun Zhang",
      "userId": "05758223502864804477"
     },
     "user_tz": 420
    },
    "id": "23kNSk8pb_W1"
   },
   "outputs": [],
   "source": [
    "# train/test: 80/20\n",
    "x_train, x_test, y_train, y_test = train_test_split(x, y, test_size=0.20, random_state=9)\n",
    "x_train, y_train = np.asarray(x_train), np.asarray(y_train)\n",
    "x_test, y_test = np.asarray(x_test), np.asarray(y_test)"
   ]
  },
  {
   "cell_type": "code",
   "execution_count": 8,
   "metadata": {
    "executionInfo": {
     "elapsed": 24,
     "status": "ok",
     "timestamp": 1664523582855,
     "user": {
      "displayName": "Aojun Zhang",
      "userId": "05758223502864804477"
     },
     "user_tz": 420
    },
    "id": "L4lyvoLP7ZUR"
   },
   "outputs": [],
   "source": [
    "def data_to_df(x, y=None):\n",
    "    df_x = pd.DataFrame(data=x.reshape((x.shape[0],-1)))\n",
    "    y_column = []\n",
    "    if y is not None and isinstance(y_train,np.ndarray):\n",
    "        df_y = pd.DataFrame(data=y.reshape((y.shape[0],-1)))\n",
    "        df = pd.concat([df_x, df_y], axis=1)\n",
    "        y_column.append('gender')\n",
    "    else:\n",
    "        df = df_x\n",
    "    df.columns = [str(pos+1)+char for pos in range(maxlen) for char in vocab] + y_column\n",
    "    df = df.astype('int8')\n",
    "    return df"
   ]
  },
  {
   "cell_type": "code",
   "execution_count": 19,
   "metadata": {
    "executionInfo": {
     "elapsed": 2636,
     "status": "ok",
     "timestamp": 1664523585468,
     "user": {
      "displayName": "Aojun Zhang",
      "userId": "05758223502864804477"
     },
     "user_tz": 420
    },
    "id": "UNKSk_8g7ZUS"
   },
   "outputs": [],
   "source": [
    "df_train = data_to_df(x_train, y_train)\n",
    "df_test = data_to_df(x_test, y_test)"
   ]
  },
  {
   "cell_type": "code",
   "execution_count": 20,
   "metadata": {
    "executionInfo": {
     "elapsed": 18,
     "status": "ok",
     "timestamp": 1664523585468,
     "user": {
      "displayName": "Aojun Zhang",
      "userId": "05758223502864804477"
     },
     "user_tz": 420
    },
    "id": "xu2oj0Zw7ZUU"
   },
   "outputs": [
    {
     "name": "stdout",
     "output_type": "stream",
     "text": [
      "train: 80.0%\n",
      "test: 20.0%\n"
     ]
    }
   ],
   "source": [
    "train_size = round(len(df_train)/(len(df)), 2)\n",
    "test_size = round(len(df_test)/(len(df)), 2)\n",
    "print(\n",
    "    \"train: \"+\"{:.1%}\".format(train_size), \n",
    "    \"test: \"+\"{:.1%}\".format(test_size),sep='\\n'\n",
    ")"
   ]
  },
  {
   "cell_type": "code",
   "execution_count": 21,
   "metadata": {
    "executionInfo": {
     "elapsed": 16,
     "status": "ok",
     "timestamp": 1664523585469,
     "user": {
      "displayName": "Aojun Zhang",
      "userId": "05758223502864804477"
     },
     "user_tz": 420
    },
    "id": "WPlsNBX07ZUW"
   },
   "outputs": [],
   "source": [
    "df_ = pd.concat([df_train, df_test])"
   ]
  },
  {
   "cell_type": "markdown",
   "metadata": {
    "id": "A_ruAAkh7ZUX"
   },
   "source": [
    "## Train models"
   ]
  },
  {
   "cell_type": "code",
   "execution_count": 22,
   "metadata": {
    "colab": {
     "base_uri": "https://localhost:8080/",
     "height": 1000,
     "referenced_widgets": [
      "215041ad8cd54870805abf6efd9bf3f2",
      "940c000324904db5863dc4dac0b74576",
      "4bf0741350184d49a98b50daa005c603",
      "1814994e690240889e666883cd2d6b18",
      "502998334381411281d366a91d35d328",
      "8c8772311d3d44ef863e243a048f8e04"
     ]
    },
    "executionInfo": {
     "elapsed": 88033,
     "status": "ok",
     "timestamp": 1664523680701,
     "user": {
      "displayName": "Aojun Zhang",
      "userId": "05758223502864804477"
     },
     "user_tz": 420
    },
    "id": "-fNlRtuO7ZUd",
    "outputId": "d17850a8-d3c6-4d01-f125-336cd89e1644"
   },
   "outputs": [
    {
     "data": {
      "text/html": [
       "<style type=\"text/css\">\n",
       "#T_41031_row44_col1 {\n",
       "  background-color: lightgreen;\n",
       "}\n",
       "</style>\n",
       "<table id=\"T_41031\">\n",
       "  <thead>\n",
       "    <tr>\n",
       "      <th class=\"blank level0\" >&nbsp;</th>\n",
       "      <th id=\"T_41031_level0_col0\" class=\"col_heading level0 col0\" >Description</th>\n",
       "      <th id=\"T_41031_level0_col1\" class=\"col_heading level0 col1\" >Value</th>\n",
       "    </tr>\n",
       "  </thead>\n",
       "  <tbody>\n",
       "    <tr>\n",
       "      <th id=\"T_41031_level0_row0\" class=\"row_heading level0 row0\" >0</th>\n",
       "      <td id=\"T_41031_row0_col0\" class=\"data row0 col0\" >session_id</td>\n",
       "      <td id=\"T_41031_row0_col1\" class=\"data row0 col1\" >123</td>\n",
       "    </tr>\n",
       "    <tr>\n",
       "      <th id=\"T_41031_level0_row1\" class=\"row_heading level0 row1\" >1</th>\n",
       "      <td id=\"T_41031_row1_col0\" class=\"data row1 col0\" >Target</td>\n",
       "      <td id=\"T_41031_row1_col1\" class=\"data row1 col1\" >gender</td>\n",
       "    </tr>\n",
       "    <tr>\n",
       "      <th id=\"T_41031_level0_row2\" class=\"row_heading level0 row2\" >2</th>\n",
       "      <td id=\"T_41031_row2_col0\" class=\"data row2 col0\" >Target Type</td>\n",
       "      <td id=\"T_41031_row2_col1\" class=\"data row2 col1\" >Binary</td>\n",
       "    </tr>\n",
       "    <tr>\n",
       "      <th id=\"T_41031_level0_row3\" class=\"row_heading level0 row3\" >3</th>\n",
       "      <td id=\"T_41031_row3_col0\" class=\"data row3 col0\" >Label Encoded</td>\n",
       "      <td id=\"T_41031_row3_col1\" class=\"data row3 col1\" >None</td>\n",
       "    </tr>\n",
       "    <tr>\n",
       "      <th id=\"T_41031_level0_row4\" class=\"row_heading level0 row4\" >4</th>\n",
       "      <td id=\"T_41031_row4_col0\" class=\"data row4 col0\" >Original Data</td>\n",
       "      <td id=\"T_41031_row4_col1\" class=\"data row4 col1\" >(93125, 676)</td>\n",
       "    </tr>\n",
       "    <tr>\n",
       "      <th id=\"T_41031_level0_row5\" class=\"row_heading level0 row5\" >5</th>\n",
       "      <td id=\"T_41031_row5_col0\" class=\"data row5 col0\" >Missing Values</td>\n",
       "      <td id=\"T_41031_row5_col1\" class=\"data row5 col1\" >False</td>\n",
       "    </tr>\n",
       "    <tr>\n",
       "      <th id=\"T_41031_level0_row6\" class=\"row_heading level0 row6\" >6</th>\n",
       "      <td id=\"T_41031_row6_col0\" class=\"data row6 col0\" >Numeric Features</td>\n",
       "      <td id=\"T_41031_row6_col1\" class=\"data row6 col1\" >675</td>\n",
       "    </tr>\n",
       "    <tr>\n",
       "      <th id=\"T_41031_level0_row7\" class=\"row_heading level0 row7\" >7</th>\n",
       "      <td id=\"T_41031_row7_col0\" class=\"data row7 col0\" >Categorical Features</td>\n",
       "      <td id=\"T_41031_row7_col1\" class=\"data row7 col1\" >0</td>\n",
       "    </tr>\n",
       "    <tr>\n",
       "      <th id=\"T_41031_level0_row8\" class=\"row_heading level0 row8\" >8</th>\n",
       "      <td id=\"T_41031_row8_col0\" class=\"data row8 col0\" >Ordinal Features</td>\n",
       "      <td id=\"T_41031_row8_col1\" class=\"data row8 col1\" >False</td>\n",
       "    </tr>\n",
       "    <tr>\n",
       "      <th id=\"T_41031_level0_row9\" class=\"row_heading level0 row9\" >9</th>\n",
       "      <td id=\"T_41031_row9_col0\" class=\"data row9 col0\" >High Cardinality Features</td>\n",
       "      <td id=\"T_41031_row9_col1\" class=\"data row9 col1\" >False</td>\n",
       "    </tr>\n",
       "    <tr>\n",
       "      <th id=\"T_41031_level0_row10\" class=\"row_heading level0 row10\" >10</th>\n",
       "      <td id=\"T_41031_row10_col0\" class=\"data row10 col0\" >High Cardinality Method</td>\n",
       "      <td id=\"T_41031_row10_col1\" class=\"data row10 col1\" >None</td>\n",
       "    </tr>\n",
       "    <tr>\n",
       "      <th id=\"T_41031_level0_row11\" class=\"row_heading level0 row11\" >11</th>\n",
       "      <td id=\"T_41031_row11_col0\" class=\"data row11 col0\" >Transformed Train Set</td>\n",
       "      <td id=\"T_41031_row11_col1\" class=\"data row11 col1\" >(74500, 673)</td>\n",
       "    </tr>\n",
       "    <tr>\n",
       "      <th id=\"T_41031_level0_row12\" class=\"row_heading level0 row12\" >12</th>\n",
       "      <td id=\"T_41031_row12_col0\" class=\"data row12 col0\" >Transformed Test Set</td>\n",
       "      <td id=\"T_41031_row12_col1\" class=\"data row12 col1\" >(18625, 673)</td>\n",
       "    </tr>\n",
       "    <tr>\n",
       "      <th id=\"T_41031_level0_row13\" class=\"row_heading level0 row13\" >13</th>\n",
       "      <td id=\"T_41031_row13_col0\" class=\"data row13 col0\" >Shuffle Train-Test</td>\n",
       "      <td id=\"T_41031_row13_col1\" class=\"data row13 col1\" >True</td>\n",
       "    </tr>\n",
       "    <tr>\n",
       "      <th id=\"T_41031_level0_row14\" class=\"row_heading level0 row14\" >14</th>\n",
       "      <td id=\"T_41031_row14_col0\" class=\"data row14 col0\" >Stratify Train-Test</td>\n",
       "      <td id=\"T_41031_row14_col1\" class=\"data row14 col1\" >False</td>\n",
       "    </tr>\n",
       "    <tr>\n",
       "      <th id=\"T_41031_level0_row15\" class=\"row_heading level0 row15\" >15</th>\n",
       "      <td id=\"T_41031_row15_col0\" class=\"data row15 col0\" >Fold Generator</td>\n",
       "      <td id=\"T_41031_row15_col1\" class=\"data row15 col1\" >StratifiedKFold</td>\n",
       "    </tr>\n",
       "    <tr>\n",
       "      <th id=\"T_41031_level0_row16\" class=\"row_heading level0 row16\" >16</th>\n",
       "      <td id=\"T_41031_row16_col0\" class=\"data row16 col0\" >Fold Number</td>\n",
       "      <td id=\"T_41031_row16_col1\" class=\"data row16 col1\" >10</td>\n",
       "    </tr>\n",
       "    <tr>\n",
       "      <th id=\"T_41031_level0_row17\" class=\"row_heading level0 row17\" >17</th>\n",
       "      <td id=\"T_41031_row17_col0\" class=\"data row17 col0\" >CPU Jobs</td>\n",
       "      <td id=\"T_41031_row17_col1\" class=\"data row17 col1\" >-1</td>\n",
       "    </tr>\n",
       "    <tr>\n",
       "      <th id=\"T_41031_level0_row18\" class=\"row_heading level0 row18\" >18</th>\n",
       "      <td id=\"T_41031_row18_col0\" class=\"data row18 col0\" >Use GPU</td>\n",
       "      <td id=\"T_41031_row18_col1\" class=\"data row18 col1\" >False</td>\n",
       "    </tr>\n",
       "    <tr>\n",
       "      <th id=\"T_41031_level0_row19\" class=\"row_heading level0 row19\" >19</th>\n",
       "      <td id=\"T_41031_row19_col0\" class=\"data row19 col0\" >Log Experiment</td>\n",
       "      <td id=\"T_41031_row19_col1\" class=\"data row19 col1\" >False</td>\n",
       "    </tr>\n",
       "    <tr>\n",
       "      <th id=\"T_41031_level0_row20\" class=\"row_heading level0 row20\" >20</th>\n",
       "      <td id=\"T_41031_row20_col0\" class=\"data row20 col0\" >Experiment Name</td>\n",
       "      <td id=\"T_41031_row20_col1\" class=\"data row20 col1\" >clf-default-name</td>\n",
       "    </tr>\n",
       "    <tr>\n",
       "      <th id=\"T_41031_level0_row21\" class=\"row_heading level0 row21\" >21</th>\n",
       "      <td id=\"T_41031_row21_col0\" class=\"data row21 col0\" >USI</td>\n",
       "      <td id=\"T_41031_row21_col1\" class=\"data row21 col1\" >692f</td>\n",
       "    </tr>\n",
       "    <tr>\n",
       "      <th id=\"T_41031_level0_row22\" class=\"row_heading level0 row22\" >22</th>\n",
       "      <td id=\"T_41031_row22_col0\" class=\"data row22 col0\" >Imputation Type</td>\n",
       "      <td id=\"T_41031_row22_col1\" class=\"data row22 col1\" >simple</td>\n",
       "    </tr>\n",
       "    <tr>\n",
       "      <th id=\"T_41031_level0_row23\" class=\"row_heading level0 row23\" >23</th>\n",
       "      <td id=\"T_41031_row23_col0\" class=\"data row23 col0\" >Iterative Imputation Iteration</td>\n",
       "      <td id=\"T_41031_row23_col1\" class=\"data row23 col1\" >None</td>\n",
       "    </tr>\n",
       "    <tr>\n",
       "      <th id=\"T_41031_level0_row24\" class=\"row_heading level0 row24\" >24</th>\n",
       "      <td id=\"T_41031_row24_col0\" class=\"data row24 col0\" >Numeric Imputer</td>\n",
       "      <td id=\"T_41031_row24_col1\" class=\"data row24 col1\" >mean</td>\n",
       "    </tr>\n",
       "    <tr>\n",
       "      <th id=\"T_41031_level0_row25\" class=\"row_heading level0 row25\" >25</th>\n",
       "      <td id=\"T_41031_row25_col0\" class=\"data row25 col0\" >Iterative Imputation Numeric Model</td>\n",
       "      <td id=\"T_41031_row25_col1\" class=\"data row25 col1\" >None</td>\n",
       "    </tr>\n",
       "    <tr>\n",
       "      <th id=\"T_41031_level0_row26\" class=\"row_heading level0 row26\" >26</th>\n",
       "      <td id=\"T_41031_row26_col0\" class=\"data row26 col0\" >Categorical Imputer</td>\n",
       "      <td id=\"T_41031_row26_col1\" class=\"data row26 col1\" >constant</td>\n",
       "    </tr>\n",
       "    <tr>\n",
       "      <th id=\"T_41031_level0_row27\" class=\"row_heading level0 row27\" >27</th>\n",
       "      <td id=\"T_41031_row27_col0\" class=\"data row27 col0\" >Iterative Imputation Categorical Model</td>\n",
       "      <td id=\"T_41031_row27_col1\" class=\"data row27 col1\" >None</td>\n",
       "    </tr>\n",
       "    <tr>\n",
       "      <th id=\"T_41031_level0_row28\" class=\"row_heading level0 row28\" >28</th>\n",
       "      <td id=\"T_41031_row28_col0\" class=\"data row28 col0\" >Unknown Categoricals Handling</td>\n",
       "      <td id=\"T_41031_row28_col1\" class=\"data row28 col1\" >least_frequent</td>\n",
       "    </tr>\n",
       "    <tr>\n",
       "      <th id=\"T_41031_level0_row29\" class=\"row_heading level0 row29\" >29</th>\n",
       "      <td id=\"T_41031_row29_col0\" class=\"data row29 col0\" >Normalize</td>\n",
       "      <td id=\"T_41031_row29_col1\" class=\"data row29 col1\" >False</td>\n",
       "    </tr>\n",
       "    <tr>\n",
       "      <th id=\"T_41031_level0_row30\" class=\"row_heading level0 row30\" >30</th>\n",
       "      <td id=\"T_41031_row30_col0\" class=\"data row30 col0\" >Normalize Method</td>\n",
       "      <td id=\"T_41031_row30_col1\" class=\"data row30 col1\" >None</td>\n",
       "    </tr>\n",
       "    <tr>\n",
       "      <th id=\"T_41031_level0_row31\" class=\"row_heading level0 row31\" >31</th>\n",
       "      <td id=\"T_41031_row31_col0\" class=\"data row31 col0\" >Transformation</td>\n",
       "      <td id=\"T_41031_row31_col1\" class=\"data row31 col1\" >False</td>\n",
       "    </tr>\n",
       "    <tr>\n",
       "      <th id=\"T_41031_level0_row32\" class=\"row_heading level0 row32\" >32</th>\n",
       "      <td id=\"T_41031_row32_col0\" class=\"data row32 col0\" >Transformation Method</td>\n",
       "      <td id=\"T_41031_row32_col1\" class=\"data row32 col1\" >None</td>\n",
       "    </tr>\n",
       "    <tr>\n",
       "      <th id=\"T_41031_level0_row33\" class=\"row_heading level0 row33\" >33</th>\n",
       "      <td id=\"T_41031_row33_col0\" class=\"data row33 col0\" >PCA</td>\n",
       "      <td id=\"T_41031_row33_col1\" class=\"data row33 col1\" >False</td>\n",
       "    </tr>\n",
       "    <tr>\n",
       "      <th id=\"T_41031_level0_row34\" class=\"row_heading level0 row34\" >34</th>\n",
       "      <td id=\"T_41031_row34_col0\" class=\"data row34 col0\" >PCA Method</td>\n",
       "      <td id=\"T_41031_row34_col1\" class=\"data row34 col1\" >None</td>\n",
       "    </tr>\n",
       "    <tr>\n",
       "      <th id=\"T_41031_level0_row35\" class=\"row_heading level0 row35\" >35</th>\n",
       "      <td id=\"T_41031_row35_col0\" class=\"data row35 col0\" >PCA Components</td>\n",
       "      <td id=\"T_41031_row35_col1\" class=\"data row35 col1\" >None</td>\n",
       "    </tr>\n",
       "    <tr>\n",
       "      <th id=\"T_41031_level0_row36\" class=\"row_heading level0 row36\" >36</th>\n",
       "      <td id=\"T_41031_row36_col0\" class=\"data row36 col0\" >Ignore Low Variance</td>\n",
       "      <td id=\"T_41031_row36_col1\" class=\"data row36 col1\" >False</td>\n",
       "    </tr>\n",
       "    <tr>\n",
       "      <th id=\"T_41031_level0_row37\" class=\"row_heading level0 row37\" >37</th>\n",
       "      <td id=\"T_41031_row37_col0\" class=\"data row37 col0\" >Combine Rare Levels</td>\n",
       "      <td id=\"T_41031_row37_col1\" class=\"data row37 col1\" >False</td>\n",
       "    </tr>\n",
       "    <tr>\n",
       "      <th id=\"T_41031_level0_row38\" class=\"row_heading level0 row38\" >38</th>\n",
       "      <td id=\"T_41031_row38_col0\" class=\"data row38 col0\" >Rare Level Threshold</td>\n",
       "      <td id=\"T_41031_row38_col1\" class=\"data row38 col1\" >None</td>\n",
       "    </tr>\n",
       "    <tr>\n",
       "      <th id=\"T_41031_level0_row39\" class=\"row_heading level0 row39\" >39</th>\n",
       "      <td id=\"T_41031_row39_col0\" class=\"data row39 col0\" >Numeric Binning</td>\n",
       "      <td id=\"T_41031_row39_col1\" class=\"data row39 col1\" >False</td>\n",
       "    </tr>\n",
       "    <tr>\n",
       "      <th id=\"T_41031_level0_row40\" class=\"row_heading level0 row40\" >40</th>\n",
       "      <td id=\"T_41031_row40_col0\" class=\"data row40 col0\" >Remove Outliers</td>\n",
       "      <td id=\"T_41031_row40_col1\" class=\"data row40 col1\" >False</td>\n",
       "    </tr>\n",
       "    <tr>\n",
       "      <th id=\"T_41031_level0_row41\" class=\"row_heading level0 row41\" >41</th>\n",
       "      <td id=\"T_41031_row41_col0\" class=\"data row41 col0\" >Outliers Threshold</td>\n",
       "      <td id=\"T_41031_row41_col1\" class=\"data row41 col1\" >None</td>\n",
       "    </tr>\n",
       "    <tr>\n",
       "      <th id=\"T_41031_level0_row42\" class=\"row_heading level0 row42\" >42</th>\n",
       "      <td id=\"T_41031_row42_col0\" class=\"data row42 col0\" >Remove Multicollinearity</td>\n",
       "      <td id=\"T_41031_row42_col1\" class=\"data row42 col1\" >False</td>\n",
       "    </tr>\n",
       "    <tr>\n",
       "      <th id=\"T_41031_level0_row43\" class=\"row_heading level0 row43\" >43</th>\n",
       "      <td id=\"T_41031_row43_col0\" class=\"data row43 col0\" >Multicollinearity Threshold</td>\n",
       "      <td id=\"T_41031_row43_col1\" class=\"data row43 col1\" >None</td>\n",
       "    </tr>\n",
       "    <tr>\n",
       "      <th id=\"T_41031_level0_row44\" class=\"row_heading level0 row44\" >44</th>\n",
       "      <td id=\"T_41031_row44_col0\" class=\"data row44 col0\" >Remove Perfect Collinearity</td>\n",
       "      <td id=\"T_41031_row44_col1\" class=\"data row44 col1\" >True</td>\n",
       "    </tr>\n",
       "    <tr>\n",
       "      <th id=\"T_41031_level0_row45\" class=\"row_heading level0 row45\" >45</th>\n",
       "      <td id=\"T_41031_row45_col0\" class=\"data row45 col0\" >Clustering</td>\n",
       "      <td id=\"T_41031_row45_col1\" class=\"data row45 col1\" >False</td>\n",
       "    </tr>\n",
       "    <tr>\n",
       "      <th id=\"T_41031_level0_row46\" class=\"row_heading level0 row46\" >46</th>\n",
       "      <td id=\"T_41031_row46_col0\" class=\"data row46 col0\" >Clustering Iteration</td>\n",
       "      <td id=\"T_41031_row46_col1\" class=\"data row46 col1\" >None</td>\n",
       "    </tr>\n",
       "    <tr>\n",
       "      <th id=\"T_41031_level0_row47\" class=\"row_heading level0 row47\" >47</th>\n",
       "      <td id=\"T_41031_row47_col0\" class=\"data row47 col0\" >Polynomial Features</td>\n",
       "      <td id=\"T_41031_row47_col1\" class=\"data row47 col1\" >False</td>\n",
       "    </tr>\n",
       "    <tr>\n",
       "      <th id=\"T_41031_level0_row48\" class=\"row_heading level0 row48\" >48</th>\n",
       "      <td id=\"T_41031_row48_col0\" class=\"data row48 col0\" >Polynomial Degree</td>\n",
       "      <td id=\"T_41031_row48_col1\" class=\"data row48 col1\" >None</td>\n",
       "    </tr>\n",
       "    <tr>\n",
       "      <th id=\"T_41031_level0_row49\" class=\"row_heading level0 row49\" >49</th>\n",
       "      <td id=\"T_41031_row49_col0\" class=\"data row49 col0\" >Trignometry Features</td>\n",
       "      <td id=\"T_41031_row49_col1\" class=\"data row49 col1\" >False</td>\n",
       "    </tr>\n",
       "    <tr>\n",
       "      <th id=\"T_41031_level0_row50\" class=\"row_heading level0 row50\" >50</th>\n",
       "      <td id=\"T_41031_row50_col0\" class=\"data row50 col0\" >Polynomial Threshold</td>\n",
       "      <td id=\"T_41031_row50_col1\" class=\"data row50 col1\" >None</td>\n",
       "    </tr>\n",
       "    <tr>\n",
       "      <th id=\"T_41031_level0_row51\" class=\"row_heading level0 row51\" >51</th>\n",
       "      <td id=\"T_41031_row51_col0\" class=\"data row51 col0\" >Group Features</td>\n",
       "      <td id=\"T_41031_row51_col1\" class=\"data row51 col1\" >False</td>\n",
       "    </tr>\n",
       "    <tr>\n",
       "      <th id=\"T_41031_level0_row52\" class=\"row_heading level0 row52\" >52</th>\n",
       "      <td id=\"T_41031_row52_col0\" class=\"data row52 col0\" >Feature Selection</td>\n",
       "      <td id=\"T_41031_row52_col1\" class=\"data row52 col1\" >False</td>\n",
       "    </tr>\n",
       "    <tr>\n",
       "      <th id=\"T_41031_level0_row53\" class=\"row_heading level0 row53\" >53</th>\n",
       "      <td id=\"T_41031_row53_col0\" class=\"data row53 col0\" >Feature Selection Method</td>\n",
       "      <td id=\"T_41031_row53_col1\" class=\"data row53 col1\" >classic</td>\n",
       "    </tr>\n",
       "    <tr>\n",
       "      <th id=\"T_41031_level0_row54\" class=\"row_heading level0 row54\" >54</th>\n",
       "      <td id=\"T_41031_row54_col0\" class=\"data row54 col0\" >Features Selection Threshold</td>\n",
       "      <td id=\"T_41031_row54_col1\" class=\"data row54 col1\" >None</td>\n",
       "    </tr>\n",
       "    <tr>\n",
       "      <th id=\"T_41031_level0_row55\" class=\"row_heading level0 row55\" >55</th>\n",
       "      <td id=\"T_41031_row55_col0\" class=\"data row55 col0\" >Feature Interaction</td>\n",
       "      <td id=\"T_41031_row55_col1\" class=\"data row55 col1\" >False</td>\n",
       "    </tr>\n",
       "    <tr>\n",
       "      <th id=\"T_41031_level0_row56\" class=\"row_heading level0 row56\" >56</th>\n",
       "      <td id=\"T_41031_row56_col0\" class=\"data row56 col0\" >Feature Ratio</td>\n",
       "      <td id=\"T_41031_row56_col1\" class=\"data row56 col1\" >False</td>\n",
       "    </tr>\n",
       "    <tr>\n",
       "      <th id=\"T_41031_level0_row57\" class=\"row_heading level0 row57\" >57</th>\n",
       "      <td id=\"T_41031_row57_col0\" class=\"data row57 col0\" >Interaction Threshold</td>\n",
       "      <td id=\"T_41031_row57_col1\" class=\"data row57 col1\" >None</td>\n",
       "    </tr>\n",
       "    <tr>\n",
       "      <th id=\"T_41031_level0_row58\" class=\"row_heading level0 row58\" >58</th>\n",
       "      <td id=\"T_41031_row58_col0\" class=\"data row58 col0\" >Fix Imbalance</td>\n",
       "      <td id=\"T_41031_row58_col1\" class=\"data row58 col1\" >False</td>\n",
       "    </tr>\n",
       "    <tr>\n",
       "      <th id=\"T_41031_level0_row59\" class=\"row_heading level0 row59\" >59</th>\n",
       "      <td id=\"T_41031_row59_col0\" class=\"data row59 col0\" >Fix Imbalance Method</td>\n",
       "      <td id=\"T_41031_row59_col1\" class=\"data row59 col1\" >SMOTE</td>\n",
       "    </tr>\n",
       "  </tbody>\n",
       "</table>\n"
      ],
      "text/plain": [
       "<pandas.io.formats.style.Styler at 0x7f94da37d5b0>"
      ]
     },
     "metadata": {},
     "output_type": "display_data"
    }
   ],
   "source": [
    "session = setup(data=df_, target='gender', silent=True, train_size=0.8, session_id=123)"
   ]
  },
  {
   "cell_type": "code",
   "execution_count": 137,
   "metadata": {
    "colab": {
     "base_uri": "https://localhost:8080/",
     "height": 554,
     "referenced_widgets": [
      "cb20961337e745238d2db0d7d460116d",
      "830654cefd0c4ba3a4f9883cac113916",
      "89cb56ec0dcd439c81b5bba71a1419bc"
     ]
    },
    "id": "0EolcEhMWK3H",
    "outputId": "84a72510-495a-4711-e45c-6934c5f14f95"
   },
   "outputs": [
    {
     "data": {
      "text/html": [
       "<style type=\"text/css\">\n",
       "#T_bbf67 th {\n",
       "  text-align: left;\n",
       "}\n",
       "#T_bbf67_row0_col0, #T_bbf67_row1_col0, #T_bbf67_row1_col1, #T_bbf67_row1_col2, #T_bbf67_row1_col3, #T_bbf67_row1_col4, #T_bbf67_row1_col5, #T_bbf67_row1_col6, #T_bbf67_row1_col7, #T_bbf67_row2_col0, #T_bbf67_row2_col1, #T_bbf67_row2_col2, #T_bbf67_row2_col3, #T_bbf67_row2_col4, #T_bbf67_row2_col5, #T_bbf67_row2_col6, #T_bbf67_row2_col7, #T_bbf67_row3_col0, #T_bbf67_row3_col1, #T_bbf67_row3_col2, #T_bbf67_row3_col3, #T_bbf67_row3_col4, #T_bbf67_row3_col5, #T_bbf67_row3_col6, #T_bbf67_row3_col7, #T_bbf67_row4_col0, #T_bbf67_row4_col1, #T_bbf67_row4_col2, #T_bbf67_row4_col3, #T_bbf67_row4_col4, #T_bbf67_row4_col5, #T_bbf67_row4_col6, #T_bbf67_row4_col7, #T_bbf67_row5_col0, #T_bbf67_row5_col1, #T_bbf67_row5_col2, #T_bbf67_row5_col3, #T_bbf67_row5_col4, #T_bbf67_row5_col5, #T_bbf67_row5_col6, #T_bbf67_row5_col7, #T_bbf67_row6_col0, #T_bbf67_row6_col1, #T_bbf67_row6_col2, #T_bbf67_row6_col3, #T_bbf67_row6_col4, #T_bbf67_row6_col5, #T_bbf67_row6_col6, #T_bbf67_row6_col7, #T_bbf67_row7_col0, #T_bbf67_row7_col1, #T_bbf67_row7_col2, #T_bbf67_row7_col3, #T_bbf67_row7_col4, #T_bbf67_row7_col5, #T_bbf67_row7_col6, #T_bbf67_row7_col7, #T_bbf67_row8_col0, #T_bbf67_row8_col1, #T_bbf67_row8_col2, #T_bbf67_row8_col3, #T_bbf67_row8_col4, #T_bbf67_row8_col5, #T_bbf67_row8_col6, #T_bbf67_row8_col7, #T_bbf67_row9_col0, #T_bbf67_row9_col1, #T_bbf67_row9_col2, #T_bbf67_row9_col3, #T_bbf67_row9_col4, #T_bbf67_row9_col5, #T_bbf67_row9_col6, #T_bbf67_row9_col7, #T_bbf67_row10_col0, #T_bbf67_row10_col1, #T_bbf67_row10_col2, #T_bbf67_row10_col3, #T_bbf67_row10_col4, #T_bbf67_row10_col5, #T_bbf67_row10_col6, #T_bbf67_row10_col7, #T_bbf67_row11_col0, #T_bbf67_row11_col1, #T_bbf67_row11_col2, #T_bbf67_row11_col3, #T_bbf67_row11_col4, #T_bbf67_row11_col5, #T_bbf67_row11_col6, #T_bbf67_row11_col7, #T_bbf67_row12_col0, #T_bbf67_row12_col1, #T_bbf67_row12_col2, #T_bbf67_row12_col3, #T_bbf67_row12_col4, #T_bbf67_row12_col5, #T_bbf67_row12_col6, #T_bbf67_row12_col7, #T_bbf67_row13_col0, #T_bbf67_row13_col1, #T_bbf67_row13_col2, #T_bbf67_row13_col3, #T_bbf67_row13_col4, #T_bbf67_row13_col5, #T_bbf67_row13_col6, #T_bbf67_row13_col7 {\n",
       "  text-align: left;\n",
       "}\n",
       "#T_bbf67_row0_col1, #T_bbf67_row0_col2, #T_bbf67_row0_col3, #T_bbf67_row0_col4, #T_bbf67_row0_col5, #T_bbf67_row0_col6, #T_bbf67_row0_col7 {\n",
       "  text-align: left;\n",
       "  background-color: yellow;\n",
       "}\n",
       "#T_bbf67_row0_col8, #T_bbf67_row1_col8, #T_bbf67_row2_col8, #T_bbf67_row3_col8, #T_bbf67_row4_col8, #T_bbf67_row5_col8, #T_bbf67_row6_col8, #T_bbf67_row7_col8, #T_bbf67_row8_col8, #T_bbf67_row9_col8, #T_bbf67_row10_col8, #T_bbf67_row11_col8, #T_bbf67_row12_col8 {\n",
       "  text-align: left;\n",
       "  background-color: lightgrey;\n",
       "}\n",
       "#T_bbf67_row13_col8 {\n",
       "  text-align: left;\n",
       "  background-color: yellow;\n",
       "  background-color: lightgrey;\n",
       "}\n",
       "</style>\n",
       "<table id=\"T_bbf67\">\n",
       "  <thead>\n",
       "    <tr>\n",
       "      <th class=\"blank level0\" >&nbsp;</th>\n",
       "      <th id=\"T_bbf67_level0_col0\" class=\"col_heading level0 col0\" >Model</th>\n",
       "      <th id=\"T_bbf67_level0_col1\" class=\"col_heading level0 col1\" >Accuracy</th>\n",
       "      <th id=\"T_bbf67_level0_col2\" class=\"col_heading level0 col2\" >AUC</th>\n",
       "      <th id=\"T_bbf67_level0_col3\" class=\"col_heading level0 col3\" >Recall</th>\n",
       "      <th id=\"T_bbf67_level0_col4\" class=\"col_heading level0 col4\" >Prec.</th>\n",
       "      <th id=\"T_bbf67_level0_col5\" class=\"col_heading level0 col5\" >F1</th>\n",
       "      <th id=\"T_bbf67_level0_col6\" class=\"col_heading level0 col6\" >Kappa</th>\n",
       "      <th id=\"T_bbf67_level0_col7\" class=\"col_heading level0 col7\" >MCC</th>\n",
       "      <th id=\"T_bbf67_level0_col8\" class=\"col_heading level0 col8\" >TT (Sec)</th>\n",
       "    </tr>\n",
       "  </thead>\n",
       "  <tbody>\n",
       "    <tr>\n",
       "      <th id=\"T_bbf67_level0_row0\" class=\"row_heading level0 row0\" >et</th>\n",
       "      <td id=\"T_bbf67_row0_col0\" class=\"data row0 col0\" >Extra Trees Classifier</td>\n",
       "      <td id=\"T_bbf67_row0_col1\" class=\"data row0 col1\" >0.9006</td>\n",
       "      <td id=\"T_bbf67_row0_col2\" class=\"data row0 col2\" >0.9629</td>\n",
       "      <td id=\"T_bbf67_row0_col3\" class=\"data row0 col3\" >0.8446</td>\n",
       "      <td id=\"T_bbf67_row0_col4\" class=\"data row0 col4\" >0.8786</td>\n",
       "      <td id=\"T_bbf67_row0_col5\" class=\"data row0 col5\" >0.8612</td>\n",
       "      <td id=\"T_bbf67_row0_col6\" class=\"data row0 col6\" >0.7838</td>\n",
       "      <td id=\"T_bbf67_row0_col7\" class=\"data row0 col7\" >0.7842</td>\n",
       "      <td id=\"T_bbf67_row0_col8\" class=\"data row0 col8\" >10.7470</td>\n",
       "    </tr>\n",
       "    <tr>\n",
       "      <th id=\"T_bbf67_level0_row1\" class=\"row_heading level0 row1\" >rf</th>\n",
       "      <td id=\"T_bbf67_row1_col0\" class=\"data row1 col0\" >Random Forest Classifier</td>\n",
       "      <td id=\"T_bbf67_row1_col1\" class=\"data row1 col1\" >0.8960</td>\n",
       "      <td id=\"T_bbf67_row1_col2\" class=\"data row1 col2\" >0.9606</td>\n",
       "      <td id=\"T_bbf67_row1_col3\" class=\"data row1 col3\" >0.8325</td>\n",
       "      <td id=\"T_bbf67_row1_col4\" class=\"data row1 col4\" >0.8765</td>\n",
       "      <td id=\"T_bbf67_row1_col5\" class=\"data row1 col5\" >0.8539</td>\n",
       "      <td id=\"T_bbf67_row1_col6\" class=\"data row1 col6\" >0.7732</td>\n",
       "      <td id=\"T_bbf67_row1_col7\" class=\"data row1 col7\" >0.7739</td>\n",
       "      <td id=\"T_bbf67_row1_col8\" class=\"data row1 col8\" >6.4420</td>\n",
       "    </tr>\n",
       "    <tr>\n",
       "      <th id=\"T_bbf67_level0_row2\" class=\"row_heading level0 row2\" >knn</th>\n",
       "      <td id=\"T_bbf67_row2_col0\" class=\"data row2 col0\" >K Neighbors Classifier</td>\n",
       "      <td id=\"T_bbf67_row2_col1\" class=\"data row2 col1\" >0.8642</td>\n",
       "      <td id=\"T_bbf67_row2_col2\" class=\"data row2 col2\" >0.9265</td>\n",
       "      <td id=\"T_bbf67_row2_col3\" class=\"data row2 col3\" >0.7613</td>\n",
       "      <td id=\"T_bbf67_row2_col4\" class=\"data row2 col4\" >0.8510</td>\n",
       "      <td id=\"T_bbf67_row2_col5\" class=\"data row2 col5\" >0.8037</td>\n",
       "      <td id=\"T_bbf67_row2_col6\" class=\"data row2 col6\" >0.7003</td>\n",
       "      <td id=\"T_bbf67_row2_col7\" class=\"data row2 col7\" >0.7029</td>\n",
       "      <td id=\"T_bbf67_row2_col8\" class=\"data row2 col8\" >298.2080</td>\n",
       "    </tr>\n",
       "    <tr>\n",
       "      <th id=\"T_bbf67_level0_row3\" class=\"row_heading level0 row3\" >lightgbm</th>\n",
       "      <td id=\"T_bbf67_row3_col0\" class=\"data row3 col0\" >Light Gradient Boosting Machine</td>\n",
       "      <td id=\"T_bbf67_row3_col1\" class=\"data row3 col1\" >0.8562</td>\n",
       "      <td id=\"T_bbf67_row3_col2\" class=\"data row3 col2\" >0.9256</td>\n",
       "      <td id=\"T_bbf67_row3_col3\" class=\"data row3 col3\" >0.8003</td>\n",
       "      <td id=\"T_bbf67_row3_col4\" class=\"data row3 col4\" >0.8049</td>\n",
       "      <td id=\"T_bbf67_row3_col5\" class=\"data row3 col5\" >0.8026</td>\n",
       "      <td id=\"T_bbf67_row3_col6\" class=\"data row3 col6\" >0.6895</td>\n",
       "      <td id=\"T_bbf67_row3_col7\" class=\"data row3 col7\" >0.6895</td>\n",
       "      <td id=\"T_bbf67_row3_col8\" class=\"data row3 col8\" >0.9810</td>\n",
       "    </tr>\n",
       "    <tr>\n",
       "      <th id=\"T_bbf67_level0_row4\" class=\"row_heading level0 row4\" >dt</th>\n",
       "      <td id=\"T_bbf67_row4_col0\" class=\"data row4 col0\" >Decision Tree Classifier</td>\n",
       "      <td id=\"T_bbf67_row4_col1\" class=\"data row4 col1\" >0.8530</td>\n",
       "      <td id=\"T_bbf67_row4_col2\" class=\"data row4 col2\" >0.8410</td>\n",
       "      <td id=\"T_bbf67_row4_col3\" class=\"data row4 col3\" >0.7966</td>\n",
       "      <td id=\"T_bbf67_row4_col4\" class=\"data row4 col4\" >0.8000</td>\n",
       "      <td id=\"T_bbf67_row4_col5\" class=\"data row4 col5\" >0.7983</td>\n",
       "      <td id=\"T_bbf67_row4_col6\" class=\"data row4 col6\" >0.6826</td>\n",
       "      <td id=\"T_bbf67_row4_col7\" class=\"data row4 col7\" >0.6826</td>\n",
       "      <td id=\"T_bbf67_row4_col8\" class=\"data row4 col8\" >0.7520</td>\n",
       "    </tr>\n",
       "    <tr>\n",
       "      <th id=\"T_bbf67_level0_row5\" class=\"row_heading level0 row5\" >lr</th>\n",
       "      <td id=\"T_bbf67_row5_col0\" class=\"data row5 col0\" >Logistic Regression</td>\n",
       "      <td id=\"T_bbf67_row5_col1\" class=\"data row5 col1\" >0.7946</td>\n",
       "      <td id=\"T_bbf67_row5_col2\" class=\"data row5 col2\" >0.8583</td>\n",
       "      <td id=\"T_bbf67_row5_col3\" class=\"data row5 col3\" >0.6635</td>\n",
       "      <td id=\"T_bbf67_row5_col4\" class=\"data row5 col4\" >0.7461</td>\n",
       "      <td id=\"T_bbf67_row5_col5\" class=\"data row5 col5\" >0.7023</td>\n",
       "      <td id=\"T_bbf67_row5_col6\" class=\"data row5 col6\" >0.5464</td>\n",
       "      <td id=\"T_bbf67_row5_col7\" class=\"data row5 col7\" >0.5486</td>\n",
       "      <td id=\"T_bbf67_row5_col8\" class=\"data row5 col8\" >18.8950</td>\n",
       "    </tr>\n",
       "    <tr>\n",
       "      <th id=\"T_bbf67_level0_row6\" class=\"row_heading level0 row6\" >svm</th>\n",
       "      <td id=\"T_bbf67_row6_col0\" class=\"data row6 col0\" >SVM - Linear Kernel</td>\n",
       "      <td id=\"T_bbf67_row6_col1\" class=\"data row6 col1\" >0.7898</td>\n",
       "      <td id=\"T_bbf67_row6_col2\" class=\"data row6 col2\" >0.0000</td>\n",
       "      <td id=\"T_bbf67_row6_col3\" class=\"data row6 col3\" >0.6537</td>\n",
       "      <td id=\"T_bbf67_row6_col4\" class=\"data row6 col4\" >0.7475</td>\n",
       "      <td id=\"T_bbf67_row6_col5\" class=\"data row6 col5\" >0.6907</td>\n",
       "      <td id=\"T_bbf67_row6_col6\" class=\"data row6 col6\" >0.5339</td>\n",
       "      <td id=\"T_bbf67_row6_col7\" class=\"data row6 col7\" >0.5413</td>\n",
       "      <td id=\"T_bbf67_row6_col8\" class=\"data row6 col8\" >1.6650</td>\n",
       "    </tr>\n",
       "    <tr>\n",
       "      <th id=\"T_bbf67_level0_row7\" class=\"row_heading level0 row7\" >lda</th>\n",
       "      <td id=\"T_bbf67_row7_col0\" class=\"data row7 col0\" >Linear Discriminant Analysis</td>\n",
       "      <td id=\"T_bbf67_row7_col1\" class=\"data row7 col1\" >0.7898</td>\n",
       "      <td id=\"T_bbf67_row7_col2\" class=\"data row7 col2\" >0.8551</td>\n",
       "      <td id=\"T_bbf67_row7_col3\" class=\"data row7 col3\" >0.6498</td>\n",
       "      <td id=\"T_bbf67_row7_col4\" class=\"data row7 col4\" >0.7426</td>\n",
       "      <td id=\"T_bbf67_row7_col5\" class=\"data row7 col5\" >0.6931</td>\n",
       "      <td id=\"T_bbf67_row7_col6\" class=\"data row7 col6\" >0.5344</td>\n",
       "      <td id=\"T_bbf67_row7_col7\" class=\"data row7 col7\" >0.5371</td>\n",
       "      <td id=\"T_bbf67_row7_col8\" class=\"data row7 col8\" >9.0030</td>\n",
       "    </tr>\n",
       "    <tr>\n",
       "      <th id=\"T_bbf67_level0_row8\" class=\"row_heading level0 row8\" >ridge</th>\n",
       "      <td id=\"T_bbf67_row8_col0\" class=\"data row8 col0\" >Ridge Classifier</td>\n",
       "      <td id=\"T_bbf67_row8_col1\" class=\"data row8 col1\" >0.7892</td>\n",
       "      <td id=\"T_bbf67_row8_col2\" class=\"data row8 col2\" >0.0000</td>\n",
       "      <td id=\"T_bbf67_row8_col3\" class=\"data row8 col3\" >0.6409</td>\n",
       "      <td id=\"T_bbf67_row8_col4\" class=\"data row8 col4\" >0.7460</td>\n",
       "      <td id=\"T_bbf67_row8_col5\" class=\"data row8 col5\" >0.6895</td>\n",
       "      <td id=\"T_bbf67_row8_col6\" class=\"data row8 col6\" >0.5313</td>\n",
       "      <td id=\"T_bbf67_row8_col7\" class=\"data row8 col7\" >0.5348</td>\n",
       "      <td id=\"T_bbf67_row8_col8\" class=\"data row8 col8\" >1.7720</td>\n",
       "    </tr>\n",
       "    <tr>\n",
       "      <th id=\"T_bbf67_level0_row9\" class=\"row_heading level0 row9\" >gbc</th>\n",
       "      <td id=\"T_bbf67_row9_col0\" class=\"data row9 col0\" >Gradient Boosting Classifier</td>\n",
       "      <td id=\"T_bbf67_row9_col1\" class=\"data row9 col1\" >0.7710</td>\n",
       "      <td id=\"T_bbf67_row9_col2\" class=\"data row9 col2\" >0.8647</td>\n",
       "      <td id=\"T_bbf67_row9_col3\" class=\"data row9 col3\" >0.5780</td>\n",
       "      <td id=\"T_bbf67_row9_col4\" class=\"data row9 col4\" >0.7385</td>\n",
       "      <td id=\"T_bbf67_row9_col5\" class=\"data row9 col5\" >0.6480</td>\n",
       "      <td id=\"T_bbf67_row9_col6\" class=\"data row9 col6\" >0.4822</td>\n",
       "      <td id=\"T_bbf67_row9_col7\" class=\"data row9 col7\" >0.4905</td>\n",
       "      <td id=\"T_bbf67_row9_col8\" class=\"data row9 col8\" >8.0160</td>\n",
       "    </tr>\n",
       "    <tr>\n",
       "      <th id=\"T_bbf67_level0_row10\" class=\"row_heading level0 row10\" >ada</th>\n",
       "      <td id=\"T_bbf67_row10_col0\" class=\"data row10 col0\" >Ada Boost Classifier</td>\n",
       "      <td id=\"T_bbf67_row10_col1\" class=\"data row10 col1\" >0.7534</td>\n",
       "      <td id=\"T_bbf67_row10_col2\" class=\"data row10 col2\" >0.8159</td>\n",
       "      <td id=\"T_bbf67_row10_col3\" class=\"data row10 col3\" >0.5608</td>\n",
       "      <td id=\"T_bbf67_row10_col4\" class=\"data row10 col4\" >0.7039</td>\n",
       "      <td id=\"T_bbf67_row10_col5\" class=\"data row10 col5\" >0.6241</td>\n",
       "      <td id=\"T_bbf67_row10_col6\" class=\"data row10 col6\" >0.4441</td>\n",
       "      <td id=\"T_bbf67_row10_col7\" class=\"data row10 col7\" >0.4506</td>\n",
       "      <td id=\"T_bbf67_row10_col8\" class=\"data row10 col8\" >5.4090</td>\n",
       "    </tr>\n",
       "    <tr>\n",
       "      <th id=\"T_bbf67_level0_row11\" class=\"row_heading level0 row11\" >nb</th>\n",
       "      <td id=\"T_bbf67_row11_col0\" class=\"data row11 col0\" >Naive Bayes</td>\n",
       "      <td id=\"T_bbf67_row11_col1\" class=\"data row11 col1\" >0.6563</td>\n",
       "      <td id=\"T_bbf67_row11_col2\" class=\"data row11 col2\" >0.7699</td>\n",
       "      <td id=\"T_bbf67_row11_col3\" class=\"data row11 col3\" >0.0909</td>\n",
       "      <td id=\"T_bbf67_row11_col4\" class=\"data row11 col4\" >0.7388</td>\n",
       "      <td id=\"T_bbf67_row11_col5\" class=\"data row11 col5\" >0.1619</td>\n",
       "      <td id=\"T_bbf67_row11_col6\" class=\"data row11 col6\" >0.0890</td>\n",
       "      <td id=\"T_bbf67_row11_col7\" class=\"data row11 col7\" >0.1683</td>\n",
       "      <td id=\"T_bbf67_row11_col8\" class=\"data row11 col8\" >0.9800</td>\n",
       "    </tr>\n",
       "    <tr>\n",
       "      <th id=\"T_bbf67_level0_row12\" class=\"row_heading level0 row12\" >qda</th>\n",
       "      <td id=\"T_bbf67_row12_col0\" class=\"data row12 col0\" >Quadratic Discriminant Analysis</td>\n",
       "      <td id=\"T_bbf67_row12_col1\" class=\"data row12 col1\" >0.6462</td>\n",
       "      <td id=\"T_bbf67_row12_col2\" class=\"data row12 col2\" >0.5554</td>\n",
       "      <td id=\"T_bbf67_row12_col3\" class=\"data row12 col3\" >0.0684</td>\n",
       "      <td id=\"T_bbf67_row12_col4\" class=\"data row12 col4\" >0.7159</td>\n",
       "      <td id=\"T_bbf67_row12_col5\" class=\"data row12 col5\" >0.1200</td>\n",
       "      <td id=\"T_bbf67_row12_col6\" class=\"data row12 col6\" >0.0578</td>\n",
       "      <td id=\"T_bbf67_row12_col7\" class=\"data row12 col7\" >0.1250</td>\n",
       "      <td id=\"T_bbf67_row12_col8\" class=\"data row12 col8\" >6.5220</td>\n",
       "    </tr>\n",
       "    <tr>\n",
       "      <th id=\"T_bbf67_level0_row13\" class=\"row_heading level0 row13\" >dummy</th>\n",
       "      <td id=\"T_bbf67_row13_col0\" class=\"data row13 col0\" >Dummy Classifier</td>\n",
       "      <td id=\"T_bbf67_row13_col1\" class=\"data row13 col1\" >0.6348</td>\n",
       "      <td id=\"T_bbf67_row13_col2\" class=\"data row13 col2\" >0.5000</td>\n",
       "      <td id=\"T_bbf67_row13_col3\" class=\"data row13 col3\" >0.0000</td>\n",
       "      <td id=\"T_bbf67_row13_col4\" class=\"data row13 col4\" >0.0000</td>\n",
       "      <td id=\"T_bbf67_row13_col5\" class=\"data row13 col5\" >0.0000</td>\n",
       "      <td id=\"T_bbf67_row13_col6\" class=\"data row13 col6\" >0.0000</td>\n",
       "      <td id=\"T_bbf67_row13_col7\" class=\"data row13 col7\" >0.0000</td>\n",
       "      <td id=\"T_bbf67_row13_col8\" class=\"data row13 col8\" >0.0780</td>\n",
       "    </tr>\n",
       "  </tbody>\n",
       "</table>\n"
      ],
      "text/plain": [
       "<pandas.io.formats.style.Styler at 0x7fc629a6be80>"
      ]
     },
     "metadata": {},
     "output_type": "display_data"
    }
   ],
   "source": [
    "top_3 = compare_models(n_select=3)"
   ]
  },
  {
   "cell_type": "code",
   "execution_count": 24,
   "metadata": {},
   "outputs": [
    {
     "name": "stdout",
     "output_type": "stream",
     "text": [
      "Transformation Pipeline and Model Successfully Saved\n"
     ]
    },
    {
     "data": {
      "text/plain": [
       "(Pipeline(memory=None,\n",
       "          steps=[('dtypes',\n",
       "                  DataTypes_Auto_infer(categorical_features=[],\n",
       "                                       display_types=False, features_todrop=[],\n",
       "                                       id_columns=[],\n",
       "                                       ml_usecase='classification',\n",
       "                                       numerical_features=[], target='gender',\n",
       "                                       time_features=[])),\n",
       "                 ('imputer',\n",
       "                  Simple_Imputer(categorical_strategy='not_available',\n",
       "                                 fill_value_categorical=None,\n",
       "                                 fill_value_numerical=None,\n",
       "                                 numeric_stra...\n",
       "                                          min_impurity_decrease=0.0,\n",
       "                                          min_impurity_split=None,\n",
       "                                          min_samples_leaf=1,\n",
       "                                          min_samples_split=2,\n",
       "                                          min_weight_fraction_leaf=0.0,\n",
       "                                          n_estimators=100, n_jobs=-1,\n",
       "                                          oob_score=False, random_state=123,\n",
       "                                          verbose=0, warm_start=False),\n",
       "                   KNeighborsClassifier(algorithm='auto', leaf_size=30,\n",
       "                                        metric='minkowski', metric_params=None,\n",
       "                                        n_jobs=-1, n_neighbors=5, p=2,\n",
       "                                        weights='uniform')]]],\n",
       "          verbose=False),\n",
       " 'top_3model.pkl')"
      ]
     },
     "execution_count": 24,
     "metadata": {},
     "output_type": "execute_result"
    }
   ],
   "source": [
    "# # Save the top models\n",
    "# save_model(top_3, '../model/top_3model')"
   ]
  },
  {
   "cell_type": "code",
   "execution_count": 23,
   "metadata": {},
   "outputs": [
    {
     "data": {
      "text/html": [
       "<style type=\"text/css\">\n",
       "#T_87840_row10_col0, #T_87840_row10_col1, #T_87840_row10_col2, #T_87840_row10_col3, #T_87840_row10_col4, #T_87840_row10_col5, #T_87840_row10_col6 {\n",
       "  background: yellow;\n",
       "}\n",
       "</style>\n",
       "<table id=\"T_87840\">\n",
       "  <thead>\n",
       "    <tr>\n",
       "      <th class=\"blank level0\" >&nbsp;</th>\n",
       "      <th id=\"T_87840_level0_col0\" class=\"col_heading level0 col0\" >Accuracy</th>\n",
       "      <th id=\"T_87840_level0_col1\" class=\"col_heading level0 col1\" >AUC</th>\n",
       "      <th id=\"T_87840_level0_col2\" class=\"col_heading level0 col2\" >Recall</th>\n",
       "      <th id=\"T_87840_level0_col3\" class=\"col_heading level0 col3\" >Prec.</th>\n",
       "      <th id=\"T_87840_level0_col4\" class=\"col_heading level0 col4\" >F1</th>\n",
       "      <th id=\"T_87840_level0_col5\" class=\"col_heading level0 col5\" >Kappa</th>\n",
       "      <th id=\"T_87840_level0_col6\" class=\"col_heading level0 col6\" >MCC</th>\n",
       "    </tr>\n",
       "    <tr>\n",
       "      <th class=\"index_name level0\" >Fold</th>\n",
       "      <th class=\"blank col0\" >&nbsp;</th>\n",
       "      <th class=\"blank col1\" >&nbsp;</th>\n",
       "      <th class=\"blank col2\" >&nbsp;</th>\n",
       "      <th class=\"blank col3\" >&nbsp;</th>\n",
       "      <th class=\"blank col4\" >&nbsp;</th>\n",
       "      <th class=\"blank col5\" >&nbsp;</th>\n",
       "      <th class=\"blank col6\" >&nbsp;</th>\n",
       "    </tr>\n",
       "  </thead>\n",
       "  <tbody>\n",
       "    <tr>\n",
       "      <th id=\"T_87840_level0_row0\" class=\"row_heading level0 row0\" >0</th>\n",
       "      <td id=\"T_87840_row0_col0\" class=\"data row0 col0\" >0.8991</td>\n",
       "      <td id=\"T_87840_row0_col1\" class=\"data row0 col1\" >0.9624</td>\n",
       "      <td id=\"T_87840_row0_col2\" class=\"data row0 col2\" >0.8377</td>\n",
       "      <td id=\"T_87840_row0_col3\" class=\"data row0 col3\" >0.8809</td>\n",
       "      <td id=\"T_87840_row0_col4\" class=\"data row0 col4\" >0.8588</td>\n",
       "      <td id=\"T_87840_row0_col5\" class=\"data row0 col5\" >0.7803</td>\n",
       "      <td id=\"T_87840_row0_col6\" class=\"data row0 col6\" >0.7809</td>\n",
       "    </tr>\n",
       "    <tr>\n",
       "      <th id=\"T_87840_level0_row1\" class=\"row_heading level0 row1\" >1</th>\n",
       "      <td id=\"T_87840_row1_col0\" class=\"data row1 col0\" >0.8969</td>\n",
       "      <td id=\"T_87840_row1_col1\" class=\"data row1 col1\" >0.9623</td>\n",
       "      <td id=\"T_87840_row1_col2\" class=\"data row1 col2\" >0.8424</td>\n",
       "      <td id=\"T_87840_row1_col3\" class=\"data row1 col3\" >0.8718</td>\n",
       "      <td id=\"T_87840_row1_col4\" class=\"data row1 col4\" >0.8569</td>\n",
       "      <td id=\"T_87840_row1_col5\" class=\"data row1 col5\" >0.7764</td>\n",
       "      <td id=\"T_87840_row1_col6\" class=\"data row1 col6\" >0.7766</td>\n",
       "    </tr>\n",
       "    <tr>\n",
       "      <th id=\"T_87840_level0_row2\" class=\"row_heading level0 row2\" >2</th>\n",
       "      <td id=\"T_87840_row2_col0\" class=\"data row2 col0\" >0.9031</td>\n",
       "      <td id=\"T_87840_row2_col1\" class=\"data row2 col1\" >0.9644</td>\n",
       "      <td id=\"T_87840_row2_col2\" class=\"data row2 col2\" >0.8428</td>\n",
       "      <td id=\"T_87840_row2_col3\" class=\"data row2 col3\" >0.8870</td>\n",
       "      <td id=\"T_87840_row2_col4\" class=\"data row2 col4\" >0.8643</td>\n",
       "      <td id=\"T_87840_row2_col5\" class=\"data row2 col5\" >0.7890</td>\n",
       "      <td id=\"T_87840_row2_col6\" class=\"data row2 col6\" >0.7897</td>\n",
       "    </tr>\n",
       "    <tr>\n",
       "      <th id=\"T_87840_level0_row3\" class=\"row_heading level0 row3\" >3</th>\n",
       "      <td id=\"T_87840_row3_col0\" class=\"data row3 col0\" >0.8995</td>\n",
       "      <td id=\"T_87840_row3_col1\" class=\"data row3 col1\" >0.9616</td>\n",
       "      <td id=\"T_87840_row3_col2\" class=\"data row3 col2\" >0.8435</td>\n",
       "      <td id=\"T_87840_row3_col3\" class=\"data row3 col3\" >0.8773</td>\n",
       "      <td id=\"T_87840_row3_col4\" class=\"data row3 col4\" >0.8601</td>\n",
       "      <td id=\"T_87840_row3_col5\" class=\"data row3 col5\" >0.7817</td>\n",
       "      <td id=\"T_87840_row3_col6\" class=\"data row3 col6\" >0.7820</td>\n",
       "    </tr>\n",
       "    <tr>\n",
       "      <th id=\"T_87840_level0_row4\" class=\"row_heading level0 row4\" >4</th>\n",
       "      <td id=\"T_87840_row4_col0\" class=\"data row4 col0\" >0.9012</td>\n",
       "      <td id=\"T_87840_row4_col1\" class=\"data row4 col1\" >0.9628</td>\n",
       "      <td id=\"T_87840_row4_col2\" class=\"data row4 col2\" >0.8472</td>\n",
       "      <td id=\"T_87840_row4_col3\" class=\"data row4 col3\" >0.8788</td>\n",
       "      <td id=\"T_87840_row4_col4\" class=\"data row4 col4\" >0.8627</td>\n",
       "      <td id=\"T_87840_row4_col5\" class=\"data row4 col5\" >0.7856</td>\n",
       "      <td id=\"T_87840_row4_col6\" class=\"data row4 col6\" >0.7859</td>\n",
       "    </tr>\n",
       "    <tr>\n",
       "      <th id=\"T_87840_level0_row5\" class=\"row_heading level0 row5\" >5</th>\n",
       "      <td id=\"T_87840_row5_col0\" class=\"data row5 col0\" >0.9013</td>\n",
       "      <td id=\"T_87840_row5_col1\" class=\"data row5 col1\" >0.9623</td>\n",
       "      <td id=\"T_87840_row5_col2\" class=\"data row5 col2\" >0.8527</td>\n",
       "      <td id=\"T_87840_row5_col3\" class=\"data row5 col3\" >0.8748</td>\n",
       "      <td id=\"T_87840_row5_col4\" class=\"data row5 col4\" >0.8636</td>\n",
       "      <td id=\"T_87840_row5_col5\" class=\"data row5 col5\" >0.7864</td>\n",
       "      <td id=\"T_87840_row5_col6\" class=\"data row5 col6\" >0.7865</td>\n",
       "    </tr>\n",
       "    <tr>\n",
       "      <th id=\"T_87840_level0_row6\" class=\"row_heading level0 row6\" >6</th>\n",
       "      <td id=\"T_87840_row6_col0\" class=\"data row6 col0\" >0.9055</td>\n",
       "      <td id=\"T_87840_row6_col1\" class=\"data row6 col1\" >0.9652</td>\n",
       "      <td id=\"T_87840_row6_col2\" class=\"data row6 col2\" >0.8498</td>\n",
       "      <td id=\"T_87840_row6_col3\" class=\"data row6 col3\" >0.8875</td>\n",
       "      <td id=\"T_87840_row6_col4\" class=\"data row6 col4\" >0.8682</td>\n",
       "      <td id=\"T_87840_row6_col5\" class=\"data row6 col5\" >0.7946</td>\n",
       "      <td id=\"T_87840_row6_col6\" class=\"data row6 col6\" >0.7951</td>\n",
       "    </tr>\n",
       "    <tr>\n",
       "      <th id=\"T_87840_level0_row7\" class=\"row_heading level0 row7\" >7</th>\n",
       "      <td id=\"T_87840_row7_col0\" class=\"data row7 col0\" >0.8992</td>\n",
       "      <td id=\"T_87840_row7_col1\" class=\"data row7 col1\" >0.9625</td>\n",
       "      <td id=\"T_87840_row7_col2\" class=\"data row7 col2\" >0.8402</td>\n",
       "      <td id=\"T_87840_row7_col3\" class=\"data row7 col3\" >0.8792</td>\n",
       "      <td id=\"T_87840_row7_col4\" class=\"data row7 col4\" >0.8593</td>\n",
       "      <td id=\"T_87840_row7_col5\" class=\"data row7 col5\" >0.7808</td>\n",
       "      <td id=\"T_87840_row7_col6\" class=\"data row7 col6\" >0.7813</td>\n",
       "    </tr>\n",
       "    <tr>\n",
       "      <th id=\"T_87840_level0_row8\" class=\"row_heading level0 row8\" >8</th>\n",
       "      <td id=\"T_87840_row8_col0\" class=\"data row8 col0\" >0.9082</td>\n",
       "      <td id=\"T_87840_row8_col1\" class=\"data row8 col1\" >0.9663</td>\n",
       "      <td id=\"T_87840_row8_col2\" class=\"data row8 col2\" >0.8637</td>\n",
       "      <td id=\"T_87840_row8_col3\" class=\"data row8 col3\" >0.8831</td>\n",
       "      <td id=\"T_87840_row8_col4\" class=\"data row8 col4\" >0.8733</td>\n",
       "      <td id=\"T_87840_row8_col5\" class=\"data row8 col5\" >0.8013</td>\n",
       "      <td id=\"T_87840_row8_col6\" class=\"data row8 col6\" >0.8014</td>\n",
       "    </tr>\n",
       "    <tr>\n",
       "      <th id=\"T_87840_level0_row9\" class=\"row_heading level0 row9\" >9</th>\n",
       "      <td id=\"T_87840_row9_col0\" class=\"data row9 col0\" >0.9003</td>\n",
       "      <td id=\"T_87840_row9_col1\" class=\"data row9 col1\" >0.9641</td>\n",
       "      <td id=\"T_87840_row9_col2\" class=\"data row9 col2\" >0.8480</td>\n",
       "      <td id=\"T_87840_row9_col3\" class=\"data row9 col3\" >0.8759</td>\n",
       "      <td id=\"T_87840_row9_col4\" class=\"data row9 col4\" >0.8617</td>\n",
       "      <td id=\"T_87840_row9_col5\" class=\"data row9 col5\" >0.7838</td>\n",
       "      <td id=\"T_87840_row9_col6\" class=\"data row9 col6\" >0.7840</td>\n",
       "    </tr>\n",
       "    <tr>\n",
       "      <th id=\"T_87840_level0_row10\" class=\"row_heading level0 row10\" >Mean</th>\n",
       "      <td id=\"T_87840_row10_col0\" class=\"data row10 col0\" >0.9014</td>\n",
       "      <td id=\"T_87840_row10_col1\" class=\"data row10 col1\" >0.9634</td>\n",
       "      <td id=\"T_87840_row10_col2\" class=\"data row10 col2\" >0.8468</td>\n",
       "      <td id=\"T_87840_row10_col3\" class=\"data row10 col3\" >0.8796</td>\n",
       "      <td id=\"T_87840_row10_col4\" class=\"data row10 col4\" >0.8629</td>\n",
       "      <td id=\"T_87840_row10_col5\" class=\"data row10 col5\" >0.7860</td>\n",
       "      <td id=\"T_87840_row10_col6\" class=\"data row10 col6\" >0.7863</td>\n",
       "    </tr>\n",
       "    <tr>\n",
       "      <th id=\"T_87840_level0_row11\" class=\"row_heading level0 row11\" >Std</th>\n",
       "      <td id=\"T_87840_row11_col0\" class=\"data row11 col0\" >0.0032</td>\n",
       "      <td id=\"T_87840_row11_col1\" class=\"data row11 col1\" >0.0015</td>\n",
       "      <td id=\"T_87840_row11_col2\" class=\"data row11 col2\" >0.0071</td>\n",
       "      <td id=\"T_87840_row11_col3\" class=\"data row11 col3\" >0.0048</td>\n",
       "      <td id=\"T_87840_row11_col4\" class=\"data row11 col4\" >0.0046</td>\n",
       "      <td id=\"T_87840_row11_col5\" class=\"data row11 col5\" >0.0070</td>\n",
       "      <td id=\"T_87840_row11_col6\" class=\"data row11 col6\" >0.0070</td>\n",
       "    </tr>\n",
       "  </tbody>\n",
       "</table>\n"
      ],
      "text/plain": [
       "<pandas.io.formats.style.Styler at 0x7f940b2a6df0>"
      ]
     },
     "metadata": {},
     "output_type": "display_data"
    }
   ],
   "source": [
    "# Create an Extra Trees Classifier\t\n",
    "et = create_model('et')"
   ]
  },
  {
   "cell_type": "code",
   "execution_count": 136,
   "metadata": {},
   "outputs": [
    {
     "data": {
      "text/html": [
       "<style type=\"text/css\">\n",
       "#T_a82de_row10_col0, #T_a82de_row10_col1, #T_a82de_row10_col2, #T_a82de_row10_col3, #T_a82de_row10_col4, #T_a82de_row10_col5, #T_a82de_row10_col6 {\n",
       "  background: yellow;\n",
       "}\n",
       "</style>\n",
       "<table id=\"T_a82de\">\n",
       "  <thead>\n",
       "    <tr>\n",
       "      <th class=\"blank level0\" >&nbsp;</th>\n",
       "      <th id=\"T_a82de_level0_col0\" class=\"col_heading level0 col0\" >Accuracy</th>\n",
       "      <th id=\"T_a82de_level0_col1\" class=\"col_heading level0 col1\" >AUC</th>\n",
       "      <th id=\"T_a82de_level0_col2\" class=\"col_heading level0 col2\" >Recall</th>\n",
       "      <th id=\"T_a82de_level0_col3\" class=\"col_heading level0 col3\" >Prec.</th>\n",
       "      <th id=\"T_a82de_level0_col4\" class=\"col_heading level0 col4\" >F1</th>\n",
       "      <th id=\"T_a82de_level0_col5\" class=\"col_heading level0 col5\" >Kappa</th>\n",
       "      <th id=\"T_a82de_level0_col6\" class=\"col_heading level0 col6\" >MCC</th>\n",
       "    </tr>\n",
       "    <tr>\n",
       "      <th class=\"index_name level0\" >Fold</th>\n",
       "      <th class=\"blank col0\" >&nbsp;</th>\n",
       "      <th class=\"blank col1\" >&nbsp;</th>\n",
       "      <th class=\"blank col2\" >&nbsp;</th>\n",
       "      <th class=\"blank col3\" >&nbsp;</th>\n",
       "      <th class=\"blank col4\" >&nbsp;</th>\n",
       "      <th class=\"blank col5\" >&nbsp;</th>\n",
       "      <th class=\"blank col6\" >&nbsp;</th>\n",
       "    </tr>\n",
       "  </thead>\n",
       "  <tbody>\n",
       "    <tr>\n",
       "      <th id=\"T_a82de_level0_row0\" class=\"row_heading level0 row0\" >0</th>\n",
       "      <td id=\"T_a82de_row0_col0\" class=\"data row0 col0\" >0.8984</td>\n",
       "      <td id=\"T_a82de_row0_col1\" class=\"data row0 col1\" >0.9613</td>\n",
       "      <td id=\"T_a82de_row0_col2\" class=\"data row0 col2\" >0.8464</td>\n",
       "      <td id=\"T_a82de_row0_col3\" class=\"data row0 col3\" >0.8717</td>\n",
       "      <td id=\"T_a82de_row0_col4\" class=\"data row0 col4\" >0.8588</td>\n",
       "      <td id=\"T_a82de_row0_col5\" class=\"data row0 col5\" >0.7795</td>\n",
       "      <td id=\"T_a82de_row0_col6\" class=\"data row0 col6\" >0.7797</td>\n",
       "    </tr>\n",
       "    <tr>\n",
       "      <th id=\"T_a82de_level0_row1\" class=\"row_heading level0 row1\" >1</th>\n",
       "      <td id=\"T_a82de_row1_col0\" class=\"data row1 col0\" >0.8980</td>\n",
       "      <td id=\"T_a82de_row1_col1\" class=\"data row1 col1\" >0.9622</td>\n",
       "      <td id=\"T_a82de_row1_col2\" class=\"data row1 col2\" >0.8401</td>\n",
       "      <td id=\"T_a82de_row1_col3\" class=\"data row1 col3\" >0.8755</td>\n",
       "      <td id=\"T_a82de_row1_col4\" class=\"data row1 col4\" >0.8575</td>\n",
       "      <td id=\"T_a82de_row1_col5\" class=\"data row1 col5\" >0.7781</td>\n",
       "      <td id=\"T_a82de_row1_col6\" class=\"data row1 col6\" >0.7785</td>\n",
       "    </tr>\n",
       "    <tr>\n",
       "      <th id=\"T_a82de_level0_row2\" class=\"row_heading level0 row2\" >2</th>\n",
       "      <td id=\"T_a82de_row2_col0\" class=\"data row2 col0\" >0.8997</td>\n",
       "      <td id=\"T_a82de_row2_col1\" class=\"data row2 col1\" >0.9616</td>\n",
       "      <td id=\"T_a82de_row2_col2\" class=\"data row2 col2\" >0.8453</td>\n",
       "      <td id=\"T_a82de_row2_col3\" class=\"data row2 col3\" >0.8759</td>\n",
       "      <td id=\"T_a82de_row2_col4\" class=\"data row2 col4\" >0.8603</td>\n",
       "      <td id=\"T_a82de_row2_col5\" class=\"data row2 col5\" >0.7821</td>\n",
       "      <td id=\"T_a82de_row2_col6\" class=\"data row2 col6\" >0.7824</td>\n",
       "    </tr>\n",
       "    <tr>\n",
       "      <th id=\"T_a82de_level0_row3\" class=\"row_heading level0 row3\" >3</th>\n",
       "      <td id=\"T_a82de_row3_col0\" class=\"data row3 col0\" >0.8977</td>\n",
       "      <td id=\"T_a82de_row3_col1\" class=\"data row3 col1\" >0.9623</td>\n",
       "      <td id=\"T_a82de_row3_col2\" class=\"data row3 col2\" >0.8361</td>\n",
       "      <td id=\"T_a82de_row3_col3\" class=\"data row3 col3\" >0.8780</td>\n",
       "      <td id=\"T_a82de_row3_col4\" class=\"data row3 col4\" >0.8566</td>\n",
       "      <td id=\"T_a82de_row3_col5\" class=\"data row3 col5\" >0.7772</td>\n",
       "      <td id=\"T_a82de_row3_col6\" class=\"data row3 col6\" >0.7777</td>\n",
       "    </tr>\n",
       "    <tr>\n",
       "      <th id=\"T_a82de_level0_row4\" class=\"row_heading level0 row4\" >4</th>\n",
       "      <td id=\"T_a82de_row4_col0\" class=\"data row4 col0\" >0.9063</td>\n",
       "      <td id=\"T_a82de_row4_col1\" class=\"data row4 col1\" >0.9652</td>\n",
       "      <td id=\"T_a82de_row4_col2\" class=\"data row4 col2\" >0.8508</td>\n",
       "      <td id=\"T_a82de_row4_col3\" class=\"data row4 col3\" >0.8880</td>\n",
       "      <td id=\"T_a82de_row4_col4\" class=\"data row4 col4\" >0.8690</td>\n",
       "      <td id=\"T_a82de_row4_col5\" class=\"data row4 col5\" >0.7961</td>\n",
       "      <td id=\"T_a82de_row4_col6\" class=\"data row4 col6\" >0.7966</td>\n",
       "    </tr>\n",
       "    <tr>\n",
       "      <th id=\"T_a82de_level0_row5\" class=\"row_heading level0 row5\" >5</th>\n",
       "      <td id=\"T_a82de_row5_col0\" class=\"data row5 col0\" >0.9024</td>\n",
       "      <td id=\"T_a82de_row5_col1\" class=\"data row5 col1\" >0.9649</td>\n",
       "      <td id=\"T_a82de_row5_col2\" class=\"data row5 col2\" >0.8482</td>\n",
       "      <td id=\"T_a82de_row5_col3\" class=\"data row5 col3\" >0.8802</td>\n",
       "      <td id=\"T_a82de_row5_col4\" class=\"data row5 col4\" >0.8639</td>\n",
       "      <td id=\"T_a82de_row5_col5\" class=\"data row5 col5\" >0.7879</td>\n",
       "      <td id=\"T_a82de_row5_col6\" class=\"data row5 col6\" >0.7882</td>\n",
       "    </tr>\n",
       "    <tr>\n",
       "      <th id=\"T_a82de_level0_row6\" class=\"row_heading level0 row6\" >6</th>\n",
       "      <td id=\"T_a82de_row6_col0\" class=\"data row6 col0\" >0.9047</td>\n",
       "      <td id=\"T_a82de_row6_col1\" class=\"data row6 col1\" >0.9627</td>\n",
       "      <td id=\"T_a82de_row6_col2\" class=\"data row6 col2\" >0.8600</td>\n",
       "      <td id=\"T_a82de_row6_col3\" class=\"data row6 col3\" >0.8767</td>\n",
       "      <td id=\"T_a82de_row6_col4\" class=\"data row6 col4\" >0.8683</td>\n",
       "      <td id=\"T_a82de_row6_col5\" class=\"data row6 col5\" >0.7936</td>\n",
       "      <td id=\"T_a82de_row6_col6\" class=\"data row6 col6\" >0.7937</td>\n",
       "    </tr>\n",
       "    <tr>\n",
       "      <th id=\"T_a82de_level0_row7\" class=\"row_heading level0 row7\" >7</th>\n",
       "      <td id=\"T_a82de_row7_col0\" class=\"data row7 col0\" >0.8969</td>\n",
       "      <td id=\"T_a82de_row7_col1\" class=\"data row7 col1\" >0.9623</td>\n",
       "      <td id=\"T_a82de_row7_col2\" class=\"data row7 col2\" >0.8342</td>\n",
       "      <td id=\"T_a82de_row7_col3\" class=\"data row7 col3\" >0.8774</td>\n",
       "      <td id=\"T_a82de_row7_col4\" class=\"data row7 col4\" >0.8553</td>\n",
       "      <td id=\"T_a82de_row7_col5\" class=\"data row7 col5\" >0.7753</td>\n",
       "      <td id=\"T_a82de_row7_col6\" class=\"data row7 col6\" >0.7759</td>\n",
       "    </tr>\n",
       "    <tr>\n",
       "      <th id=\"T_a82de_level0_row8\" class=\"row_heading level0 row8\" >8</th>\n",
       "      <td id=\"T_a82de_row8_col0\" class=\"data row8 col0\" >0.8999</td>\n",
       "      <td id=\"T_a82de_row8_col1\" class=\"data row8 col1\" >0.9610</td>\n",
       "      <td id=\"T_a82de_row8_col2\" class=\"data row8 col2\" >0.8364</td>\n",
       "      <td id=\"T_a82de_row8_col3\" class=\"data row8 col3\" >0.8832</td>\n",
       "      <td id=\"T_a82de_row8_col4\" class=\"data row8 col4\" >0.8591</td>\n",
       "      <td id=\"T_a82de_row8_col5\" class=\"data row8 col5\" >0.7816</td>\n",
       "      <td id=\"T_a82de_row8_col6\" class=\"data row8 col6\" >0.7822</td>\n",
       "    </tr>\n",
       "    <tr>\n",
       "      <th id=\"T_a82de_level0_row9\" class=\"row_heading level0 row9\" >9</th>\n",
       "      <td id=\"T_a82de_row9_col0\" class=\"data row9 col0\" >0.9020</td>\n",
       "      <td id=\"T_a82de_row9_col1\" class=\"data row9 col1\" >0.9650</td>\n",
       "      <td id=\"T_a82de_row9_col2\" class=\"data row9 col2\" >0.8482</td>\n",
       "      <td id=\"T_a82de_row9_col3\" class=\"data row9 col3\" >0.8792</td>\n",
       "      <td id=\"T_a82de_row9_col4\" class=\"data row9 col4\" >0.8634</td>\n",
       "      <td id=\"T_a82de_row9_col5\" class=\"data row9 col5\" >0.7870</td>\n",
       "      <td id=\"T_a82de_row9_col6\" class=\"data row9 col6\" >0.7874</td>\n",
       "    </tr>\n",
       "    <tr>\n",
       "      <th id=\"T_a82de_level0_row10\" class=\"row_heading level0 row10\" >Mean</th>\n",
       "      <td id=\"T_a82de_row10_col0\" class=\"data row10 col0\" >0.9006</td>\n",
       "      <td id=\"T_a82de_row10_col1\" class=\"data row10 col1\" >0.9629</td>\n",
       "      <td id=\"T_a82de_row10_col2\" class=\"data row10 col2\" >0.8446</td>\n",
       "      <td id=\"T_a82de_row10_col3\" class=\"data row10 col3\" >0.8786</td>\n",
       "      <td id=\"T_a82de_row10_col4\" class=\"data row10 col4\" >0.8612</td>\n",
       "      <td id=\"T_a82de_row10_col5\" class=\"data row10 col5\" >0.7838</td>\n",
       "      <td id=\"T_a82de_row10_col6\" class=\"data row10 col6\" >0.7842</td>\n",
       "    </tr>\n",
       "    <tr>\n",
       "      <th id=\"T_a82de_level0_row11\" class=\"row_heading level0 row11\" >Std</th>\n",
       "      <td id=\"T_a82de_row11_col0\" class=\"data row11 col0\" >0.0030</td>\n",
       "      <td id=\"T_a82de_row11_col1\" class=\"data row11 col1\" >0.0015</td>\n",
       "      <td id=\"T_a82de_row11_col2\" class=\"data row11 col2\" >0.0076</td>\n",
       "      <td id=\"T_a82de_row11_col3\" class=\"data row11 col3\" >0.0043</td>\n",
       "      <td id=\"T_a82de_row11_col4\" class=\"data row11 col4\" >0.0045</td>\n",
       "      <td id=\"T_a82de_row11_col5\" class=\"data row11 col5\" >0.0067</td>\n",
       "      <td id=\"T_a82de_row11_col6\" class=\"data row11 col6\" >0.0066</td>\n",
       "    </tr>\n",
       "  </tbody>\n",
       "</table>\n"
      ],
      "text/plain": [
       "<pandas.io.formats.style.Styler at 0x7fc51bba8e20>"
      ]
     },
     "metadata": {},
     "output_type": "display_data"
    }
   ],
   "source": [
    "# Create an Extra Trees Classifier\t\n",
    "et = create_model('et')"
   ]
  },
  {
   "cell_type": "code",
   "execution_count": 31,
   "metadata": {},
   "outputs": [
    {
     "data": {
      "image/png": "[encoded data removed]",
      "text/plain": [
       "<Figure size 432x288 with 1 Axes>"
      ]
     },
     "metadata": {
      "needs_background": "light"
     },
     "output_type": "display_data"
    }
   ],
   "source": [
    "# performance on test/held-out dataset\n",
    "plot_model(et)"
   ]
  },
  {
   "cell_type": "code",
   "execution_count": 32,
   "metadata": {},
   "outputs": [
    {
     "data": {
      "image/png": "[encoded data removed]",
      "text/plain": [
       "<Figure size 432x288 with 1 Axes>"
      ]
     },
     "metadata": {
      "needs_background": "light"
     },
     "output_type": "display_data"
    }
   ],
   "source": [
    "plot_model(et, plot = 'confusion_matrix')"
   ]
  },
  {
   "cell_type": "code",
   "execution_count": 34,
   "metadata": {},
   "outputs": [
    {
     "data": {
      "image/png": "[encoded data removed]",
      "text/plain": [
       "<Figure size 432x288 with 1 Axes>"
      ]
     },
     "metadata": {
      "needs_background": "light"
     },
     "output_type": "display_data"
    }
   ],
   "source": [
    "# Precision Recall Curve\n",
    "plot_model(et, plot = 'pr')"
   ]
  },
  {
   "cell_type": "code",
   "execution_count": 33,
   "metadata": {},
   "outputs": [
    {
     "data": {
      "image/png": "[encoded data removed]",
      "text/plain": [
       "<Figure size 432x288 with 2 Axes>"
      ]
     },
     "metadata": {
      "needs_background": "light"
     },
     "output_type": "display_data"
    }
   ],
   "source": [
    "plot_model(et, plot = 'class_report')"
   ]
  },
  {
   "cell_type": "markdown",
   "metadata": {},
   "source": [
    "- Top 10 features in the ExtraTreeClassifier, e.g., 6a, an letter 'a' at the 6th position of a name"
   ]
  },
  {
   "cell_type": "code",
   "execution_count": 35,
   "metadata": {},
   "outputs": [
    {
     "data": {
      "image/png": "[encoded data removed]",
      "text/plain": [
       "<Figure size 800x500 with 1 Axes>"
      ]
     },
     "metadata": {
      "needs_background": "light"
     },
     "output_type": "display_data"
    }
   ],
   "source": [
    "plot_model(et, plot='feature')"
   ]
  },
  {
   "cell_type": "code",
   "execution_count": 138,
   "metadata": {},
   "outputs": [
    {
     "data": {
      "text/html": [
       "<style type=\"text/css\">\n",
       "</style>\n",
       "<table id=\"T_eec7e\">\n",
       "  <thead>\n",
       "    <tr>\n",
       "      <th class=\"blank level0\" >&nbsp;</th>\n",
       "      <th id=\"T_eec7e_level0_col0\" class=\"col_heading level0 col0\" >Model</th>\n",
       "      <th id=\"T_eec7e_level0_col1\" class=\"col_heading level0 col1\" >Accuracy</th>\n",
       "      <th id=\"T_eec7e_level0_col2\" class=\"col_heading level0 col2\" >AUC</th>\n",
       "      <th id=\"T_eec7e_level0_col3\" class=\"col_heading level0 col3\" >Recall</th>\n",
       "      <th id=\"T_eec7e_level0_col4\" class=\"col_heading level0 col4\" >Prec.</th>\n",
       "      <th id=\"T_eec7e_level0_col5\" class=\"col_heading level0 col5\" >F1</th>\n",
       "      <th id=\"T_eec7e_level0_col6\" class=\"col_heading level0 col6\" >Kappa</th>\n",
       "      <th id=\"T_eec7e_level0_col7\" class=\"col_heading level0 col7\" >MCC</th>\n",
       "    </tr>\n",
       "  </thead>\n",
       "  <tbody>\n",
       "    <tr>\n",
       "      <th id=\"T_eec7e_level0_row0\" class=\"row_heading level0 row0\" >0</th>\n",
       "      <td id=\"T_eec7e_row0_col0\" class=\"data row0 col0\" >Extra Trees Classifier</td>\n",
       "      <td id=\"T_eec7e_row0_col1\" class=\"data row0 col1\" >0.9036</td>\n",
       "      <td id=\"T_eec7e_row0_col2\" class=\"data row0 col2\" >0.9647</td>\n",
       "      <td id=\"T_eec7e_row0_col3\" class=\"data row0 col3\" >0.8494</td>\n",
       "      <td id=\"T_eec7e_row0_col4\" class=\"data row0 col4\" >0.8827</td>\n",
       "      <td id=\"T_eec7e_row0_col5\" class=\"data row0 col5\" >0.8657</td>\n",
       "      <td id=\"T_eec7e_row0_col6\" class=\"data row0 col6\" >0.7906</td>\n",
       "      <td id=\"T_eec7e_row0_col7\" class=\"data row0 col7\" >0.7910</td>\n",
       "    </tr>\n",
       "  </tbody>\n",
       "</table>\n"
      ],
      "text/plain": [
       "<pandas.io.formats.style.Styler at 0x7fc4c847be50>"
      ]
     },
     "metadata": {},
     "output_type": "display_data"
    }
   ],
   "source": [
    "# Make predictions on the test set\n",
    "predict_model(et);"
   ]
  },
  {
   "cell_type": "markdown",
   "metadata": {},
   "source": [
    "- stacking model based on top 3 models above"
   ]
  },
  {
   "cell_type": "code",
   "execution_count": 27,
   "metadata": {},
   "outputs": [
    {
     "data": {
      "text/html": [
       "<style type=\"text/css\">\n",
       "#T_cc1a8_row10_col0, #T_cc1a8_row10_col1, #T_cc1a8_row10_col2, #T_cc1a8_row10_col3, #T_cc1a8_row10_col4, #T_cc1a8_row10_col5, #T_cc1a8_row10_col6 {\n",
       "  background: yellow;\n",
       "}\n",
       "</style>\n",
       "<table id=\"T_cc1a8\">\n",
       "  <thead>\n",
       "    <tr>\n",
       "      <th class=\"blank level0\" >&nbsp;</th>\n",
       "      <th id=\"T_cc1a8_level0_col0\" class=\"col_heading level0 col0\" >Accuracy</th>\n",
       "      <th id=\"T_cc1a8_level0_col1\" class=\"col_heading level0 col1\" >AUC</th>\n",
       "      <th id=\"T_cc1a8_level0_col2\" class=\"col_heading level0 col2\" >Recall</th>\n",
       "      <th id=\"T_cc1a8_level0_col3\" class=\"col_heading level0 col3\" >Prec.</th>\n",
       "      <th id=\"T_cc1a8_level0_col4\" class=\"col_heading level0 col4\" >F1</th>\n",
       "      <th id=\"T_cc1a8_level0_col5\" class=\"col_heading level0 col5\" >Kappa</th>\n",
       "      <th id=\"T_cc1a8_level0_col6\" class=\"col_heading level0 col6\" >MCC</th>\n",
       "    </tr>\n",
       "    <tr>\n",
       "      <th class=\"index_name level0\" >Fold</th>\n",
       "      <th class=\"blank col0\" >&nbsp;</th>\n",
       "      <th class=\"blank col1\" >&nbsp;</th>\n",
       "      <th class=\"blank col2\" >&nbsp;</th>\n",
       "      <th class=\"blank col3\" >&nbsp;</th>\n",
       "      <th class=\"blank col4\" >&nbsp;</th>\n",
       "      <th class=\"blank col5\" >&nbsp;</th>\n",
       "      <th class=\"blank col6\" >&nbsp;</th>\n",
       "    </tr>\n",
       "  </thead>\n",
       "  <tbody>\n",
       "    <tr>\n",
       "      <th id=\"T_cc1a8_level0_row0\" class=\"row_heading level0 row0\" >0</th>\n",
       "      <td id=\"T_cc1a8_row0_col0\" class=\"data row0 col0\" >0.9053</td>\n",
       "      <td id=\"T_cc1a8_row0_col1\" class=\"data row0 col1\" >0.9663</td>\n",
       "      <td id=\"T_cc1a8_row0_col2\" class=\"data row0 col2\" >0.8608</td>\n",
       "      <td id=\"T_cc1a8_row0_col3\" class=\"data row0 col3\" >0.8772</td>\n",
       "      <td id=\"T_cc1a8_row0_col4\" class=\"data row0 col4\" >0.8689</td>\n",
       "      <td id=\"T_cc1a8_row0_col5\" class=\"data row0 col5\" >0.7948</td>\n",
       "      <td id=\"T_cc1a8_row0_col6\" class=\"data row0 col6\" >0.7949</td>\n",
       "    </tr>\n",
       "    <tr>\n",
       "      <th id=\"T_cc1a8_level0_row1\" class=\"row_heading level0 row1\" >1</th>\n",
       "      <td id=\"T_cc1a8_row1_col0\" class=\"data row1 col0\" >0.8996</td>\n",
       "      <td id=\"T_cc1a8_row1_col1\" class=\"data row1 col1\" >0.9612</td>\n",
       "      <td id=\"T_cc1a8_row1_col2\" class=\"data row1 col2\" >0.8615</td>\n",
       "      <td id=\"T_cc1a8_row1_col3\" class=\"data row1 col3\" >0.8630</td>\n",
       "      <td id=\"T_cc1a8_row1_col4\" class=\"data row1 col4\" >0.8622</td>\n",
       "      <td id=\"T_cc1a8_row1_col5\" class=\"data row1 col5\" >0.7833</td>\n",
       "      <td id=\"T_cc1a8_row1_col6\" class=\"data row1 col6\" >0.7833</td>\n",
       "    </tr>\n",
       "    <tr>\n",
       "      <th id=\"T_cc1a8_level0_row2\" class=\"row_heading level0 row2\" >2</th>\n",
       "      <td id=\"T_cc1a8_row2_col0\" class=\"data row2 col0\" >0.9075</td>\n",
       "      <td id=\"T_cc1a8_row2_col1\" class=\"data row2 col1\" >0.9659</td>\n",
       "      <td id=\"T_cc1a8_row2_col2\" class=\"data row2 col2\" >0.8734</td>\n",
       "      <td id=\"T_cc1a8_row2_col3\" class=\"data row2 col3\" >0.8731</td>\n",
       "      <td id=\"T_cc1a8_row2_col4\" class=\"data row2 col4\" >0.8732</td>\n",
       "      <td id=\"T_cc1a8_row2_col5\" class=\"data row2 col5\" >0.8004</td>\n",
       "      <td id=\"T_cc1a8_row2_col6\" class=\"data row2 col6\" >0.8004</td>\n",
       "    </tr>\n",
       "    <tr>\n",
       "      <th id=\"T_cc1a8_level0_row3\" class=\"row_heading level0 row3\" >3</th>\n",
       "      <td id=\"T_cc1a8_row3_col0\" class=\"data row3 col0\" >0.9041</td>\n",
       "      <td id=\"T_cc1a8_row3_col1\" class=\"data row3 col1\" >0.9663</td>\n",
       "      <td id=\"T_cc1a8_row3_col2\" class=\"data row3 col2\" >0.8644</td>\n",
       "      <td id=\"T_cc1a8_row3_col3\" class=\"data row3 col3\" >0.8716</td>\n",
       "      <td id=\"T_cc1a8_row3_col4\" class=\"data row3 col4\" >0.8680</td>\n",
       "      <td id=\"T_cc1a8_row3_col5\" class=\"data row3 col5\" >0.7927</td>\n",
       "      <td id=\"T_cc1a8_row3_col6\" class=\"data row3 col6\" >0.7927</td>\n",
       "    </tr>\n",
       "    <tr>\n",
       "      <th id=\"T_cc1a8_level0_row4\" class=\"row_heading level0 row4\" >4</th>\n",
       "      <td id=\"T_cc1a8_row4_col0\" class=\"data row4 col0\" >0.9081</td>\n",
       "      <td id=\"T_cc1a8_row4_col1\" class=\"data row4 col1\" >0.9647</td>\n",
       "      <td id=\"T_cc1a8_row4_col2\" class=\"data row4 col2\" >0.8665</td>\n",
       "      <td id=\"T_cc1a8_row4_col3\" class=\"data row4 col3\" >0.8795</td>\n",
       "      <td id=\"T_cc1a8_row4_col4\" class=\"data row4 col4\" >0.8730</td>\n",
       "      <td id=\"T_cc1a8_row4_col5\" class=\"data row4 col5\" >0.8009</td>\n",
       "      <td id=\"T_cc1a8_row4_col6\" class=\"data row4 col6\" >0.8010</td>\n",
       "    </tr>\n",
       "    <tr>\n",
       "      <th id=\"T_cc1a8_level0_row5\" class=\"row_heading level0 row5\" >5</th>\n",
       "      <td id=\"T_cc1a8_row5_col0\" class=\"data row5 col0\" >0.9086</td>\n",
       "      <td id=\"T_cc1a8_row5_col1\" class=\"data row5 col1\" >0.9654</td>\n",
       "      <td id=\"T_cc1a8_row5_col2\" class=\"data row5 col2\" >0.8773</td>\n",
       "      <td id=\"T_cc1a8_row5_col3\" class=\"data row5 col3\" >0.8726</td>\n",
       "      <td id=\"T_cc1a8_row5_col4\" class=\"data row5 col4\" >0.8750</td>\n",
       "      <td id=\"T_cc1a8_row5_col5\" class=\"data row5 col5\" >0.8029</td>\n",
       "      <td id=\"T_cc1a8_row5_col6\" class=\"data row5 col6\" >0.8029</td>\n",
       "    </tr>\n",
       "    <tr>\n",
       "      <th id=\"T_cc1a8_level0_row6\" class=\"row_heading level0 row6\" >6</th>\n",
       "      <td id=\"T_cc1a8_row6_col0\" class=\"data row6 col0\" >0.9015</td>\n",
       "      <td id=\"T_cc1a8_row6_col1\" class=\"data row6 col1\" >0.9635</td>\n",
       "      <td id=\"T_cc1a8_row6_col2\" class=\"data row6 col2\" >0.8589</td>\n",
       "      <td id=\"T_cc1a8_row6_col3\" class=\"data row6 col3\" >0.8693</td>\n",
       "      <td id=\"T_cc1a8_row6_col4\" class=\"data row6 col4\" >0.8641</td>\n",
       "      <td id=\"T_cc1a8_row6_col5\" class=\"data row6 col5\" >0.7868</td>\n",
       "      <td id=\"T_cc1a8_row6_col6\" class=\"data row6 col6\" >0.7869</td>\n",
       "    </tr>\n",
       "    <tr>\n",
       "      <th id=\"T_cc1a8_level0_row7\" class=\"row_heading level0 row7\" >7</th>\n",
       "      <td id=\"T_cc1a8_row7_col0\" class=\"data row7 col0\" >0.9028</td>\n",
       "      <td id=\"T_cc1a8_row7_col1\" class=\"data row7 col1\" >0.9630</td>\n",
       "      <td id=\"T_cc1a8_row7_col2\" class=\"data row7 col2\" >0.8654</td>\n",
       "      <td id=\"T_cc1a8_row7_col3\" class=\"data row7 col3\" >0.8676</td>\n",
       "      <td id=\"T_cc1a8_row7_col4\" class=\"data row7 col4\" >0.8665</td>\n",
       "      <td id=\"T_cc1a8_row7_col5\" class=\"data row7 col5\" >0.7901</td>\n",
       "      <td id=\"T_cc1a8_row7_col6\" class=\"data row7 col6\" >0.7901</td>\n",
       "    </tr>\n",
       "    <tr>\n",
       "      <th id=\"T_cc1a8_level0_row8\" class=\"row_heading level0 row8\" >8</th>\n",
       "      <td id=\"T_cc1a8_row8_col0\" class=\"data row8 col0\" >0.9063</td>\n",
       "      <td id=\"T_cc1a8_row8_col1\" class=\"data row8 col1\" >0.9635</td>\n",
       "      <td id=\"T_cc1a8_row8_col2\" class=\"data row8 col2\" >0.8751</td>\n",
       "      <td id=\"T_cc1a8_row8_col3\" class=\"data row8 col3\" >0.8689</td>\n",
       "      <td id=\"T_cc1a8_row8_col4\" class=\"data row8 col4\" >0.8720</td>\n",
       "      <td id=\"T_cc1a8_row8_col5\" class=\"data row8 col5\" >0.7981</td>\n",
       "      <td id=\"T_cc1a8_row8_col6\" class=\"data row8 col6\" >0.7982</td>\n",
       "    </tr>\n",
       "    <tr>\n",
       "      <th id=\"T_cc1a8_level0_row9\" class=\"row_heading level0 row9\" >9</th>\n",
       "      <td id=\"T_cc1a8_row9_col0\" class=\"data row9 col0\" >0.9034</td>\n",
       "      <td id=\"T_cc1a8_row9_col1\" class=\"data row9 col1\" >0.9641</td>\n",
       "      <td id=\"T_cc1a8_row9_col2\" class=\"data row9 col2\" >0.8625</td>\n",
       "      <td id=\"T_cc1a8_row9_col3\" class=\"data row9 col3\" >0.8713</td>\n",
       "      <td id=\"T_cc1a8_row9_col4\" class=\"data row9 col4\" >0.8669</td>\n",
       "      <td id=\"T_cc1a8_row9_col5\" class=\"data row9 col5\" >0.7911</td>\n",
       "      <td id=\"T_cc1a8_row9_col6\" class=\"data row9 col6\" >0.7912</td>\n",
       "    </tr>\n",
       "    <tr>\n",
       "      <th id=\"T_cc1a8_level0_row10\" class=\"row_heading level0 row10\" >Mean</th>\n",
       "      <td id=\"T_cc1a8_row10_col0\" class=\"data row10 col0\" >0.9047</td>\n",
       "      <td id=\"T_cc1a8_row10_col1\" class=\"data row10 col1\" >0.9644</td>\n",
       "      <td id=\"T_cc1a8_row10_col2\" class=\"data row10 col2\" >0.8666</td>\n",
       "      <td id=\"T_cc1a8_row10_col3\" class=\"data row10 col3\" >0.8714</td>\n",
       "      <td id=\"T_cc1a8_row10_col4\" class=\"data row10 col4\" >0.8690</td>\n",
       "      <td id=\"T_cc1a8_row10_col5\" class=\"data row10 col5\" >0.7941</td>\n",
       "      <td id=\"T_cc1a8_row10_col6\" class=\"data row10 col6\" >0.7941</td>\n",
       "    </tr>\n",
       "    <tr>\n",
       "      <th id=\"T_cc1a8_level0_row11\" class=\"row_heading level0 row11\" >Std</th>\n",
       "      <td id=\"T_cc1a8_row11_col0\" class=\"data row11 col0\" >0.0028</td>\n",
       "      <td id=\"T_cc1a8_row11_col1\" class=\"data row11 col1\" >0.0016</td>\n",
       "      <td id=\"T_cc1a8_row11_col2\" class=\"data row11 col2\" >0.0061</td>\n",
       "      <td id=\"T_cc1a8_row11_col3\" class=\"data row11 col3\" >0.0045</td>\n",
       "      <td id=\"T_cc1a8_row11_col4\" class=\"data row11 col4\" >0.0040</td>\n",
       "      <td id=\"T_cc1a8_row11_col5\" class=\"data row11 col5\" >0.0061</td>\n",
       "      <td id=\"T_cc1a8_row11_col6\" class=\"data row11 col6\" >0.0061</td>\n",
       "    </tr>\n",
       "  </tbody>\n",
       "</table>\n"
      ],
      "text/plain": [
       "<pandas.io.formats.style.Styler at 0x7fc5349233d0>"
      ]
     },
     "metadata": {},
     "output_type": "display_data"
    }
   ],
   "source": [
    "stack_soft = stack_models(top_3)"
   ]
  },
  {
   "cell_type": "code",
   "execution_count": 28,
   "metadata": {},
   "outputs": [
    {
     "data": {
      "image/png": "[encoded data removed]",
      "text/plain": [
       "<Figure size 800x550 with 1 Axes>"
      ]
     },
     "metadata": {},
     "output_type": "display_data"
    }
   ],
   "source": [
    "plot_model(stack_soft)"
   ]
  },
  {
   "cell_type": "code",
   "execution_count": 30,
   "metadata": {},
   "outputs": [
    {
     "data": {
      "image/png": "[encoded data removed]",
      "text/plain": [
       "<Figure size 800x550 with 1 Axes>"
      ]
     },
     "metadata": {},
     "output_type": "display_data"
    }
   ],
   "source": [
    "plot_model(stack_soft, plot = 'confusion_matrix')"
   ]
  },
  {
   "cell_type": "code",
   "execution_count": 29,
   "metadata": {},
   "outputs": [
    {
     "name": "stdout",
     "output_type": "stream",
     "text": [
      "Transformation Pipeline and Model Successfully Saved\n"
     ]
    },
    {
     "data": {
      "text/plain": [
       "(Pipeline(memory=None,\n",
       "          steps=[('dtypes',\n",
       "                  DataTypes_Auto_infer(categorical_features=[],\n",
       "                                       display_types=False, features_todrop=[],\n",
       "                                       id_columns=[],\n",
       "                                       ml_usecase='classification',\n",
       "                                       numerical_features=[], target='gender',\n",
       "                                       time_features=[])),\n",
       "                 ('imputer',\n",
       "                  Simple_Imputer(categorical_strategy='not_available',\n",
       "                                 fill_value_categorical=None,\n",
       "                                 fill_value_numerical=None,\n",
       "                                 numeric_stra...\n",
       "                                                                       p=2,\n",
       "                                                                       weights='uniform'))],\n",
       "                                     final_estimator=LogisticRegression(C=1.0,\n",
       "                                                                        class_weight=None,\n",
       "                                                                        dual=False,\n",
       "                                                                        fit_intercept=True,\n",
       "                                                                        intercept_scaling=1,\n",
       "                                                                        l1_ratio=None,\n",
       "                                                                        max_iter=1000,\n",
       "                                                                        multi_class='auto',\n",
       "                                                                        n_jobs=None,\n",
       "                                                                        penalty='l2',\n",
       "                                                                        random_state=123,\n",
       "                                                                        solver='lbfgs',\n",
       "                                                                        tol=0.0001,\n",
       "                                                                        verbose=0,\n",
       "                                                                        warm_start=False),\n",
       "                                     n_jobs=-1, passthrough=True,\n",
       "                                     stack_method='auto', verbose=0)]],\n",
       "          verbose=False),\n",
       " 'stack_model.pkl')"
      ]
     },
     "execution_count": 29,
     "metadata": {},
     "output_type": "execute_result"
    }
   ],
   "source": [
    "#save_model(stack_soft, '../model/stack_model')"
   ]
  },
  {
   "cell_type": "code",
   "execution_count": 34,
   "metadata": {},
   "outputs": [
    {
     "data": {
      "text/html": [
       "<style type=\"text/css\">\n",
       "</style>\n",
       "<table id=\"T_5dce0\">\n",
       "  <thead>\n",
       "    <tr>\n",
       "      <th class=\"blank level0\" >&nbsp;</th>\n",
       "      <th id=\"T_5dce0_level0_col0\" class=\"col_heading level0 col0\" >Model</th>\n",
       "      <th id=\"T_5dce0_level0_col1\" class=\"col_heading level0 col1\" >Accuracy</th>\n",
       "      <th id=\"T_5dce0_level0_col2\" class=\"col_heading level0 col2\" >AUC</th>\n",
       "      <th id=\"T_5dce0_level0_col3\" class=\"col_heading level0 col3\" >Recall</th>\n",
       "      <th id=\"T_5dce0_level0_col4\" class=\"col_heading level0 col4\" >Prec.</th>\n",
       "      <th id=\"T_5dce0_level0_col5\" class=\"col_heading level0 col5\" >F1</th>\n",
       "      <th id=\"T_5dce0_level0_col6\" class=\"col_heading level0 col6\" >Kappa</th>\n",
       "      <th id=\"T_5dce0_level0_col7\" class=\"col_heading level0 col7\" >MCC</th>\n",
       "    </tr>\n",
       "  </thead>\n",
       "  <tbody>\n",
       "    <tr>\n",
       "      <th id=\"T_5dce0_level0_row0\" class=\"row_heading level0 row0\" >0</th>\n",
       "      <td id=\"T_5dce0_row0_col0\" class=\"data row0 col0\" >Stacking Classifier</td>\n",
       "      <td id=\"T_5dce0_row0_col1\" class=\"data row0 col1\" >0.9105</td>\n",
       "      <td id=\"T_5dce0_row0_col2\" class=\"data row0 col2\" >0.9681</td>\n",
       "      <td id=\"T_5dce0_row0_col3\" class=\"data row0 col3\" >0.8738</td>\n",
       "      <td id=\"T_5dce0_row0_col4\" class=\"data row0 col4\" >0.8822</td>\n",
       "      <td id=\"T_5dce0_row0_col5\" class=\"data row0 col5\" >0.8780</td>\n",
       "      <td id=\"T_5dce0_row0_col6\" class=\"data row0 col6\" >0.8073</td>\n",
       "      <td id=\"T_5dce0_row0_col7\" class=\"data row0 col7\" >0.8073</td>\n",
       "    </tr>\n",
       "  </tbody>\n",
       "</table>\n"
      ],
      "text/plain": [
       "<pandas.io.formats.style.Styler at 0x7fc520275760>"
      ]
     },
     "metadata": {},
     "output_type": "display_data"
    }
   ],
   "source": [
    "# Make predictions on the test set\n",
    "predict_model(stack_soft);"
   ]
  },
  {
   "cell_type": "markdown",
   "metadata": {},
   "source": [
    "Given limited improvement on test performance but super long processing time, I decide to use ExtraTreeClassifier."
   ]
  },
  {
   "cell_type": "code",
   "execution_count": 139,
   "metadata": {},
   "outputs": [],
   "source": [
    "# Finalize the model\n",
    "final_mod = finalize_model(et)"
   ]
  },
  {
   "cell_type": "code",
   "execution_count": 154,
   "metadata": {},
   "outputs": [
    {
     "name": "stdout",
     "output_type": "stream",
     "text": [
      "Transformation Pipeline and Model Successfully Saved\n"
     ]
    },
    {
     "data": {
      "text/plain": [
       "(Pipeline(memory=None,\n",
       "          steps=[('dtypes',\n",
       "                  DataTypes_Auto_infer(categorical_features=[],\n",
       "                                       display_types=False, features_todrop=[],\n",
       "                                       id_columns=[],\n",
       "                                       ml_usecase='classification',\n",
       "                                       numerical_features=[], target='gender',\n",
       "                                       time_features=[])),\n",
       "                 ('imputer',\n",
       "                  Simple_Imputer(categorical_strategy='not_available',\n",
       "                                 fill_value_categorical=None,\n",
       "                                 fill_value_numerical=None,\n",
       "                                 numeric_stra...\n",
       "                  ExtraTreesClassifier(bootstrap=False, ccp_alpha=0.0,\n",
       "                                       class_weight=None, criterion='gini',\n",
       "                                       max_depth=None, max_features='auto',\n",
       "                                       max_leaf_nodes=None, max_samples=None,\n",
       "                                       min_impurity_decrease=0.0,\n",
       "                                       min_impurity_split=None,\n",
       "                                       min_samples_leaf=1, min_samples_split=2,\n",
       "                                       min_weight_fraction_leaf=0.0,\n",
       "                                       n_estimators=100, n_jobs=-1,\n",
       "                                       oob_score=False, random_state=123,\n",
       "                                       verbose=0, warm_start=False)]],\n",
       "          verbose=False),\n",
       " 'final_extra_tree_classifier.pkl')"
      ]
     },
     "execution_count": 154,
     "metadata": {},
     "output_type": "execute_result"
    }
   ],
   "source": [
    "save_model(final_mod,'../model/final_extra_tree_classifier')"
   ]
  },
  {
   "cell_type": "markdown",
   "metadata": {},
   "source": [
    "## Load Final Model and Test on Unseen Data"
   ]
  },
  {
   "cell_type": "code",
   "execution_count": 4,
   "metadata": {},
   "outputs": [
    {
     "name": "stdout",
     "output_type": "stream",
     "text": [
      "Transformation Pipeline and Model Successfully Loaded\n"
     ]
    }
   ],
   "source": [
    "saved_final_mod = load_model('../model/final_extra_tree_classifier')"
   ]
  },
  {
   "cell_type": "code",
   "execution_count": 9,
   "metadata": {},
   "outputs": [],
   "source": [
    "test_data = pd.read_csv(\"../data/sample_test.csv\")\n",
    "test_data.iloc[:,0] = preprocessing(test_data.iloc[:,0])\n",
    "test_x = get_encod_names(test_data.iloc[:,0].values)\n",
    "test_x_df = data_to_df(np.asarray(test_x))"
   ]
  },
  {
   "cell_type": "code",
   "execution_count": 10,
   "metadata": {},
   "outputs": [],
   "source": [
    "code_to_label = {0:'F',1:'M'}\n",
    "test_predictions_res = predict_model(saved_final_mod, data=test_x_df)\n",
    "test_data[\"predicted_gender\"] = test_predictions_res[\"Label\"].map(code_to_label)"
   ]
  },
  {
   "cell_type": "code",
   "execution_count": 11,
   "metadata": {},
   "outputs": [
    {
     "name": "stdout",
     "output_type": "stream",
     "text": [
      "predicted accuracy on unseen data: 91.68%\n"
     ]
    }
   ],
   "source": [
    "acc = len(test_data.query(\"gender==predicted_gender\"))/len(test_data)\n",
    "print(\"predicted accuracy on unseen data:\",\"{:.2%}\".format(acc))"
   ]
  },
  {
   "cell_type": "markdown",
   "metadata": {},
   "source": [
    "___"
   ]
  }
 ],
 "metadata": {
  "colab": {
   "collapsed_sections": [],
   "provenance": []
  },
  "finalized": {
   "timestamp": 1664524133968,
   "trusted": false
  },
  "kernelspec": {
   "display_name": "Python 3.8.13 ('dsq')",
   "language": "python",
   "name": "python3"
  },
  "language_info": {
   "codemirror_mode": {
    "name": "ipython",
    "version": 3
   },
   "file_extension": ".py",
   "mimetype": "text/x-python",
   "name": "python",
   "nbconvert_exporter": "python",
   "pygments_lexer": "ipython3",
   "version": "3.8.13"
  },
  "toc": {
   "base_numbering": 1,
   "nav_menu": {},
   "number_sections": true,
   "sideBar": true,
   "skip_h1_title": false,
   "title_cell": "Table of Contents",
   "title_sidebar": "Contents",
   "toc_cell": false,
   "toc_position": {},
   "toc_section_display": true,
   "toc_window_display": false
  },
  "varInspector": {
   "cols": {
    "lenName": 16,
    "lenType": 16,
    "lenVar": 40
   },
   "kernels_config": {
    "python": {
     "delete_cmd_postfix": "",
     "delete_cmd_prefix": "del ",
     "library": "var_list.py",
     "varRefreshCmd": "print(var_dic_list())"
    },
    "r": {
     "delete_cmd_postfix": ") ",
     "delete_cmd_prefix": "rm(",
     "library": "var_list.r",
     "varRefreshCmd": "cat(var_dic_list()) "
    }
   },
   "types_to_exclude": [
    "module",
    "function",
    "builtin_function_or_method",
    "instance",
    "_Feature"
   ],
   "window_display": false
  },
  "vscode": {
   "interpreter": {
    "hash": "5974d7ffc99ebbe5969204bd9171cd3bda3ee1bbfad07dbfa48e28962abfda66"
   }
  },
  "widgets": {
   "application/vnd.jupyter.widget-state+json": {
    "1814994e690240889e666883cd2d6b18": {
     "model_module": "@jupyter-widgets/controls",
     "model_module_version": "1.5.0",
     "model_name": "TextModel",
     "state": {
      "_dom_classes": [],
      "_model_module": "@jupyter-widgets/controls",
      "_model_module_version": "1.5.0",
      "_model_name": "TextModel",
      "_view_count": null,
      "_view_module": "@jupyter-widgets/controls",
      "_view_module_version": "1.5.0",
      "_view_name": "TextView",
      "continuous_update": true,
      "description": "",
      "description_tooltip": null,
      "disabled": false,
      "layout": "IPY_MODEL_502998334381411281d366a91d35d328",
      "placeholder": "​",
      "style": "IPY_MODEL_8c8772311d3d44ef863e243a048f8e04",
      "value": "Following data types have been inferred automatically, if they are correct press enter to continue or type 'quit' otherwise."
     }
    },
    "215041ad8cd54870805abf6efd9bf3f2": {
     "model_module": "@jupyter-widgets/controls",
     "model_module_version": "1.5.0",
     "model_name": "IntProgressModel",
     "state": {
      "_dom_classes": [],
      "_model_module": "@jupyter-widgets/controls",
      "_model_module_version": "1.5.0",
      "_model_name": "IntProgressModel",
      "_view_count": null,
      "_view_module": "@jupyter-widgets/controls",
      "_view_module_version": "1.5.0",
      "_view_name": "ProgressView",
      "bar_style": "",
      "description": "Processing: ",
      "description_tooltip": null,
      "layout": "IPY_MODEL_940c000324904db5863dc4dac0b74576",
      "max": 3,
      "min": 0,
      "orientation": "horizontal",
      "style": "IPY_MODEL_4bf0741350184d49a98b50daa005c603",
      "value": 3
     }
    },
    "4bf0741350184d49a98b50daa005c603": {
     "model_module": "@jupyter-widgets/controls",
     "model_module_version": "1.5.0",
     "model_name": "ProgressStyleModel",
     "state": {
      "_model_module": "@jupyter-widgets/controls",
      "_model_module_version": "1.5.0",
      "_model_name": "ProgressStyleModel",
      "_view_count": null,
      "_view_module": "@jupyter-widgets/base",
      "_view_module_version": "1.2.0",
      "_view_name": "StyleView",
      "bar_color": null,
      "description_width": ""
     }
    },
    "502998334381411281d366a91d35d328": {
     "model_module": "@jupyter-widgets/base",
     "model_module_version": "1.2.0",
     "model_name": "LayoutModel",
     "state": {
      "_model_module": "@jupyter-widgets/base",
      "_model_module_version": "1.2.0",
      "_model_name": "LayoutModel",
      "_view_count": null,
      "_view_module": "@jupyter-widgets/base",
      "_view_module_version": "1.2.0",
      "_view_name": "LayoutView",
      "align_content": null,
      "align_items": null,
      "align_self": null,
      "border": null,
      "bottom": null,
      "display": null,
      "flex": null,
      "flex_flow": null,
      "grid_area": null,
      "grid_auto_columns": null,
      "grid_auto_flow": null,
      "grid_auto_rows": null,
      "grid_column": null,
      "grid_gap": null,
      "grid_row": null,
      "grid_template_areas": null,
      "grid_template_columns": null,
      "grid_template_rows": null,
      "height": null,
      "justify_content": null,
      "justify_items": null,
      "left": null,
      "margin": null,
      "max_height": null,
      "max_width": null,
      "min_height": null,
      "min_width": null,
      "object_fit": null,
      "object_position": null,
      "order": null,
      "overflow": null,
      "overflow_x": null,
      "overflow_y": null,
      "padding": null,
      "right": null,
      "top": null,
      "visibility": null,
      "width": "100%"
     }
    },
    "830654cefd0c4ba3a4f9883cac113916": {
     "model_module": "@jupyter-widgets/base",
     "model_module_version": "1.2.0",
     "model_name": "LayoutModel",
     "state": {
      "_model_module": "@jupyter-widgets/base",
      "_model_module_version": "1.2.0",
      "_model_name": "LayoutModel",
      "_view_count": null,
      "_view_module": "@jupyter-widgets/base",
      "_view_module_version": "1.2.0",
      "_view_name": "LayoutView",
      "align_content": null,
      "align_items": null,
      "align_self": null,
      "border": null,
      "bottom": null,
      "display": null,
      "flex": null,
      "flex_flow": null,
      "grid_area": null,
      "grid_auto_columns": null,
      "grid_auto_flow": null,
      "grid_auto_rows": null,
      "grid_column": null,
      "grid_gap": null,
      "grid_row": null,
      "grid_template_areas": null,
      "grid_template_columns": null,
      "grid_template_rows": null,
      "height": null,
      "justify_content": null,
      "justify_items": null,
      "left": null,
      "margin": null,
      "max_height": null,
      "max_width": null,
      "min_height": null,
      "min_width": null,
      "object_fit": null,
      "object_position": null,
      "order": null,
      "overflow": null,
      "overflow_x": null,
      "overflow_y": null,
      "padding": null,
      "right": null,
      "top": null,
      "visibility": null,
      "width": null
     }
    },
    "89cb56ec0dcd439c81b5bba71a1419bc": {
     "model_module": "@jupyter-widgets/controls",
     "model_module_version": "1.5.0",
     "model_name": "ProgressStyleModel",
     "state": {
      "_model_module": "@jupyter-widgets/controls",
      "_model_module_version": "1.5.0",
      "_model_name": "ProgressStyleModel",
      "_view_count": null,
      "_view_module": "@jupyter-widgets/base",
      "_view_module_version": "1.2.0",
      "_view_name": "StyleView",
      "bar_color": null,
      "description_width": ""
     }
    },
    "8c8772311d3d44ef863e243a048f8e04": {
     "model_module": "@jupyter-widgets/controls",
     "model_module_version": "1.5.0",
     "model_name": "DescriptionStyleModel",
     "state": {
      "_model_module": "@jupyter-widgets/controls",
      "_model_module_version": "1.5.0",
      "_model_name": "DescriptionStyleModel",
      "_view_count": null,
      "_view_module": "@jupyter-widgets/base",
      "_view_module_version": "1.2.0",
      "_view_name": "StyleView",
      "description_width": ""
     }
    },
    "940c000324904db5863dc4dac0b74576": {
     "model_module": "@jupyter-widgets/base",
     "model_module_version": "1.2.0",
     "model_name": "LayoutModel",
     "state": {
      "_model_module": "@jupyter-widgets/base",
      "_model_module_version": "1.2.0",
      "_model_name": "LayoutModel",
      "_view_count": null,
      "_view_module": "@jupyter-widgets/base",
      "_view_module_version": "1.2.0",
      "_view_name": "LayoutView",
      "align_content": null,
      "align_items": null,
      "align_self": null,
      "border": null,
      "bottom": null,
      "display": null,
      "flex": null,
      "flex_flow": null,
      "grid_area": null,
      "grid_auto_columns": null,
      "grid_auto_flow": null,
      "grid_auto_rows": null,
      "grid_column": null,
      "grid_gap": null,
      "grid_row": null,
      "grid_template_areas": null,
      "grid_template_columns": null,
      "grid_template_rows": null,
      "height": null,
      "justify_content": null,
      "justify_items": null,
      "left": null,
      "margin": null,
      "max_height": null,
      "max_width": null,
      "min_height": null,
      "min_width": null,
      "object_fit": null,
      "object_position": null,
      "order": null,
      "overflow": null,
      "overflow_x": null,
      "overflow_y": null,
      "padding": null,
      "right": null,
      "top": null,
      "visibility": null,
      "width": null
     }
    },
    "cb20961337e745238d2db0d7d460116d": {
     "model_module": "@jupyter-widgets/controls",
     "model_module_version": "1.5.0",
     "model_name": "IntProgressModel",
     "state": {
      "_dom_classes": [],
      "_model_module": "@jupyter-widgets/controls",
      "_model_module_version": "1.5.0",
      "_model_name": "IntProgressModel",
      "_view_count": null,
      "_view_module": "@jupyter-widgets/controls",
      "_view_module_version": "1.5.0",
      "_view_name": "ProgressView",
      "bar_style": "",
      "description": "Processing: ",
      "description_tooltip": null,
      "layout": "IPY_MODEL_830654cefd0c4ba3a4f9883cac113916",
      "max": 74,
      "min": 0,
      "orientation": "horizontal",
      "style": "IPY_MODEL_89cb56ec0dcd439c81b5bba71a1419bc",
      "value": 5
     }
    }
   }
  }
 },
 "nbformat": 4,
 "nbformat_minor": 1
}
